{
 "cells": [
  {
   "cell_type": "code",
   "execution_count": 10,
   "metadata": {},
   "outputs": [],
   "source": [
    "def test():\n",
    "    print(\"generator start\")\n",
    "    n = 1\n",
    "    while True:\n",
    "        yield_expression_value = yield n\n",
    "        print(\"yield_expression_value = %d\" % yield_expression_value)\n",
    "        n += 1"
   ]
  },
  {
   "cell_type": "code",
   "execution_count": 12,
   "metadata": {},
   "outputs": [
    {
     "name": "stdout",
     "output_type": "stream",
     "text": [
      "<class 'generator'>\n",
      "\n",
      "---------------\n",
      "\n",
      "generator start\n",
      "next_result = 1\n",
      "\n",
      "---------------\n",
      "\n",
      "yield_expression_value = 666\n",
      "send_result = 2\n"
     ]
    }
   ],
   "source": [
    "# ①创建generator对象\n",
    "generator = test()\n",
    "print(type(generator))\n",
    "\n",
    "print(\"\\n---------------\\n\")\n",
    "\n",
    "# ②启动generator\n",
    "# next_result = generator.__next__()\n",
    "next_result = generator.send(None)\n",
    "print(\"next_result = %d\" % next_result)\n",
    "\n",
    "print(\"\\n---------------\\n\")\n",
    "\n",
    "# ③发送值给yield表达式\n",
    "send_result = generator.send(666)\n",
    "print(\"send_result = %d\" % send_result)"
   ]
  },
  {
   "cell_type": "code",
   "execution_count": 8,
   "metadata": {},
   "outputs": [
    {
     "name": "stdout",
     "output_type": "stream",
     "text": [
      "[CONSUMER] start\n",
      "start\n",
      "[PRODUCER] Producer is producing 1\n",
      "[CONSUMER] Consumer is consuming 1\n",
      "[PRODUCER] Consumer return: 200 ok\n",
      "[PRODUCER] Producer is producing 2\n",
      "[CONSUMER] Consumer is consuming 2\n",
      "[PRODUCER] Consumer return: 200 ok\n",
      "[PRODUCER] Producer is producing 3\n",
      "[CONSUMER] Consumer is consuming 3\n",
      "[PRODUCER] Consumer return: 200 ok\n"
     ]
    }
   ],
   "source": [
    "def consumer():\n",
    "    print(\"[CONSUMER] start\")\n",
    "    r = 'start'\n",
    "    while True:\n",
    "        n = yield r\n",
    "        if not n:\n",
    "            print(\"n is empty\")\n",
    "            continue\n",
    "        print(\"[CONSUMER] Consumer is consuming %s\" % n)\n",
    "        r = \"200 ok\"\n",
    "\n",
    "\n",
    "def producer(c):\n",
    "    # 启动generator\n",
    "    start_value = c.send(None)\n",
    "    print(start_value)\n",
    "    n = 0\n",
    "    while n < 3:\n",
    "        n += 1\n",
    "        print(\"[PRODUCER] Producer is producing %d\" % n)\n",
    "        r = c.send(n)\n",
    "        print('[PRODUCER] Consumer return: %s' % r)\n",
    "    # 关闭generator\n",
    "    c.close()\n",
    "\n",
    "\n",
    "# 创建生成器\n",
    "c = consumer()\n",
    "# 传入generator\n",
    "producer(c)"
   ]
  },
  {
   "cell_type": "code",
   "execution_count": 13,
   "metadata": {},
   "outputs": [],
   "source": [
    "def chain2(*iterables):\n",
    "    for i in iterables:\n",
    "        yield from i"
   ]
  },
  {
   "cell_type": "code",
   "execution_count": 14,
   "metadata": {},
   "outputs": [
    {
     "data": {
      "text/plain": [
       "['a', 'b', 'c', 1, 2, 3]"
      ]
     },
     "execution_count": 14,
     "metadata": {},
     "output_type": "execute_result"
    }
   ],
   "source": [
    "s = 'abc'\n",
    "t = [1,2,3]\n",
    "list(chain2(s, t))"
   ]
  },
  {
   "cell_type": "code",
   "execution_count": 7,
   "metadata": {},
   "outputs": [
    {
     "name": "stdout",
     "output_type": "stream",
     "text": [
      "77\n",
      "77\n"
     ]
    }
   ],
   "source": [
    "a = 5\n",
    "def func():\n",
    "    global a\n",
    "    a = 77\n",
    "    return a\n",
    "print(func())\n",
    "print(a)"
   ]
  },
  {
   "cell_type": "code",
   "execution_count": 9,
   "metadata": {},
   "outputs": [
    {
     "name": "stdout",
     "output_type": "stream",
     "text": [
      "[1, 2, 44]\n",
      "[1, 2, 44]\n"
     ]
    }
   ],
   "source": [
    "lst = [1,2]\n",
    "def func():\n",
    "    lst.append(44)\n",
    "    return lst\n",
    "print(func())\n",
    "print(lst)"
   ]
  },
  {
   "cell_type": "code",
   "execution_count": 11,
   "metadata": {},
   "outputs": [],
   "source": [
    "class R:\n",
    "    def __init__(self, name):\n",
    "        self.name = name\n",
    "    def __del__(self):\n",
    "        print('__del__ called')"
   ]
  },
  {
   "cell_type": "code",
   "execution_count": 3,
   "metadata": {},
   "outputs": [],
   "source": [
    "r1 = R('digu')\n",
    "r2 = R('mym')"
   ]
  },
  {
   "cell_type": "code",
   "execution_count": 4,
   "metadata": {},
   "outputs": [],
   "source": [
    "r1.sex = 'm'"
   ]
  },
  {
   "cell_type": "code",
   "execution_count": 5,
   "metadata": {},
   "outputs": [
    {
     "data": {
      "text/plain": [
       "<__main__.R at 0x2bcaee07438>"
      ]
     },
     "execution_count": 5,
     "metadata": {},
     "output_type": "execute_result"
    }
   ],
   "source": [
    "r1"
   ]
  },
  {
   "cell_type": "code",
   "execution_count": 6,
   "metadata": {},
   "outputs": [
    {
     "data": {
      "text/plain": [
       "'m'"
      ]
     },
     "execution_count": 6,
     "metadata": {},
     "output_type": "execute_result"
    }
   ],
   "source": [
    "r1.sex"
   ]
  },
  {
   "cell_type": "code",
   "execution_count": 7,
   "metadata": {},
   "outputs": [
    {
     "ename": "AttributeError",
     "evalue": "'R' object has no attribute 'sex'",
     "output_type": "error",
     "traceback": [
      "\u001b[1;31m---------------------------------------------------------------------------\u001b[0m",
      "\u001b[1;31mAttributeError\u001b[0m                            Traceback (most recent call last)",
      "\u001b[1;32m<ipython-input-7-27739626ef24>\u001b[0m in \u001b[0;36m<module>\u001b[1;34m\u001b[0m\n\u001b[1;32m----> 1\u001b[1;33m \u001b[0mr2\u001b[0m\u001b[1;33m.\u001b[0m\u001b[0msex\u001b[0m\u001b[1;33m\u001b[0m\u001b[1;33m\u001b[0m\u001b[0m\n\u001b[0m",
      "\u001b[1;31mAttributeError\u001b[0m: 'R' object has no attribute 'sex'"
     ]
    }
   ],
   "source": [
    "r2.sex"
   ]
  },
  {
   "cell_type": "code",
   "execution_count": 8,
   "metadata": {},
   "outputs": [],
   "source": [
    "del r1.sex"
   ]
  },
  {
   "cell_type": "code",
   "execution_count": 9,
   "metadata": {},
   "outputs": [
    {
     "ename": "AttributeError",
     "evalue": "'R' object has no attribute 'sex'",
     "output_type": "error",
     "traceback": [
      "\u001b[1;31m---------------------------------------------------------------------------\u001b[0m",
      "\u001b[1;31mAttributeError\u001b[0m                            Traceback (most recent call last)",
      "\u001b[1;32m<ipython-input-9-2a1a2010f971>\u001b[0m in \u001b[0;36m<module>\u001b[1;34m\u001b[0m\n\u001b[1;32m----> 1\u001b[1;33m \u001b[0mr1\u001b[0m\u001b[1;33m.\u001b[0m\u001b[0msex\u001b[0m\u001b[1;33m\u001b[0m\u001b[1;33m\u001b[0m\u001b[0m\n\u001b[0m",
      "\u001b[1;31mAttributeError\u001b[0m: 'R' object has no attribute 'sex'"
     ]
    }
   ],
   "source": [
    "r1.sex"
   ]
  },
  {
   "cell_type": "code",
   "execution_count": 13,
   "metadata": {},
   "outputs": [
    {
     "name": "stdout",
     "output_type": "stream",
     "text": [
      "__del__ called\n"
     ]
    }
   ],
   "source": [
    "def haha():\n",
    "    r1 = R('digu')\n",
    "haha()"
   ]
  },
  {
   "cell_type": "code",
   "execution_count": 24,
   "metadata": {},
   "outputs": [],
   "source": [
    "class RA(R):\n",
    "    def __init__(self, name, age):\n",
    "        # R.__init__(self,name)\n",
    "        super(RA, self).__init__(name)\n",
    "        self.age = age"
   ]
  },
  {
   "cell_type": "code",
   "execution_count": 25,
   "metadata": {},
   "outputs": [
    {
     "name": "stdout",
     "output_type": "stream",
     "text": [
      "__del__ called\n"
     ]
    }
   ],
   "source": [
    "ra1 = RA('digua', 12)"
   ]
  },
  {
   "cell_type": "code",
   "execution_count": 26,
   "metadata": {},
   "outputs": [
    {
     "data": {
      "text/plain": [
       "'digua'"
      ]
     },
     "execution_count": 26,
     "metadata": {},
     "output_type": "execute_result"
    }
   ],
   "source": [
    "ra1.name"
   ]
  },
  {
   "cell_type": "raw",
   "metadata": {},
   "source": [
    "r1.age"
   ]
  },
  {
   "cell_type": "code",
   "execution_count": 27,
   "metadata": {},
   "outputs": [
    {
     "data": {
      "text/plain": [
       "12"
      ]
     },
     "execution_count": 27,
     "metadata": {},
     "output_type": "execute_result"
    }
   ],
   "source": [
    "ra1.age"
   ]
  },
  {
   "cell_type": "code",
   "execution_count": 38,
   "metadata": {},
   "outputs": [
    {
     "name": "stdout",
     "output_type": "stream",
     "text": [
      "C called\n",
      "D called\n"
     ]
    }
   ],
   "source": [
    "class A(object):\n",
    "    def __init__(self):\n",
    "        print('A called')\n",
    "class B(A):\n",
    "    def __init__(self):\n",
    "        print('B called')\n",
    "class C(A):\n",
    "    def __init__(self):\n",
    "        print('C called')\n",
    "class D(B, C):\n",
    "    def __init__(self):\n",
    "        super(B,self).__init__()\n",
    "        print('D called')\n",
    "d = D()"
   ]
  },
  {
   "cell_type": "code",
   "execution_count": null,
   "metadata": {},
   "outputs": [],
   "source": [
    "C"
   ]
  }
 ],
 "metadata": {
  "kernelspec": {
   "display_name": "Python 3",
   "language": "python",
   "name": "python3"
  },
  "language_info": {
   "codemirror_mode": {
    "name": "ipython",
    "version": 3
   },
   "file_extension": ".py",
   "mimetype": "text/x-python",
   "name": "python",
   "nbconvert_exporter": "python",
   "pygments_lexer": "ipython3",
   "version": "3.7.1"
  }
 },
 "nbformat": 4,
 "nbformat_minor": 4
}
