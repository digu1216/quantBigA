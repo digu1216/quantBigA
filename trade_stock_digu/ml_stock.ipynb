{
 "cells": [
  {
   "cell_type": "code",
   "execution_count": 24,
   "metadata": {},
   "outputs": [],
   "source": [
    "from data_service import DataServiceTushare\n",
    "from logger import Logger\n",
    "import tushare as ts\n",
    "from time import time, sleep\n",
    "from sklearn.preprocessing import StandardScaler\n",
    "from sklearn.preprocessing import PolynomialFeatures\n",
    "from sklearn.model_selection import train_test_split\n",
    "from sklearn.linear_model import LogisticRegressionCV\n",
    "from sklearn.svm import SVC\n",
    "from sklearn.metrics import recall_score, confusion_matrix, precision_score\n",
    "from sklearn.pipeline import Pipeline\n",
    "from sklearn.model_selection import GridSearchCV\n",
    "import numpy as np\n",
    "import pandas as pd\n",
    "from pymongo import MongoClient, ASCENDING, DESCENDING"
   ]
  },
  {
   "cell_type": "code",
   "execution_count": 346,
   "metadata": {},
   "outputs": [],
   "source": [
    "ds_tushare = DataServiceTushare()    \n",
    "lst_index_price = ds_tushare.getStockPriceLst('000001_SH', '20030301')\n",
    "count_X = lst_index_price.count()\n",
    "data_index = np.zeros(shape=(count_X, 4))    \n",
    "data_index_data = list()\n",
    "lst_index_price.sort(\"trade_date\", DESCENDING)\n",
    "last_index_val = 0.0\n",
    "idx = 0\n",
    "for item in lst_index_price:\n",
    "    ma5 = item['close'] - item['ma_5']\n",
    "    ma20 = item['close'] - item['ma_20']        \n",
    "    ma10 = item['close'] - item['ma_10']     \n",
    "    ma30 = item['close'] - item['ma_30']        \n",
    "    ma60 = item['close'] - item['ma_60']        \n",
    "    ma120 = item['close'] - item['ma_120']        \n",
    "    ma250 = item['close'] - item['ma_250']            \n",
    "    vol_rate = item['vol_rate']\n",
    "    result = 1 if item['close'] <= last_index_val else 0\n",
    "    # data_index[idx] = [ma5, ma10, ma20, ma30, ma60, ma120, ma250, vol_rate, result]  \n",
    "    data_index[idx] = [ma5, ma20, vol_rate, result]  \n",
    "    data_index_data.append(item['trade_date'])      \n",
    "    idx += 1\n",
    "    last_index_val = item['close']\n",
    "X_train, X_test, y_train, y_test = train_test_split(data_index[:, :-1], data_index[:, -1], test_size=0.1)"
   ]
  },
  {
   "cell_type": "code",
   "execution_count": 390,
   "metadata": {},
   "outputs": [],
   "source": [
    "pipe = Pipeline([('standard_scaler', StandardScaler()), \n",
    "                ('polynomial_features', PolynomialFeatures(degree=2)), \n",
    "                ('logistic_reg', LogisticRegressionCV(cv=5 ,class_weight={0:0.55, 1:0.45}))],)    "
   ]
  },
  {
   "cell_type": "code",
   "execution_count": 395,
   "metadata": {},
   "outputs": [],
   "source": [
    "from sklearn.ensemble import BaggingClassifier\n",
    "standard_scaler = StandardScaler()\n",
    "X_train = standard_scaler.fit_transform(X_train)\n",
    "svc_clf = SVC(kernel='rbf', gamma=5, C=0.001)"
   ]
  },
  {
   "cell_type": "code",
   "execution_count": 399,
   "metadata": {},
   "outputs": [],
   "source": [
    "bag_clf = BaggingClassifier(svc_clf, n_estimators=500, max_samples=0.2, bootstrap=True, n_jobs=-1, oob_score=True)"
   ]
  },
  {
   "cell_type": "code",
   "execution_count": 400,
   "metadata": {},
   "outputs": [
    {
     "data": {
      "text/plain": [
       "BaggingClassifier(base_estimator=SVC(C=0.001, break_ties=False, cache_size=200,\n",
       "                                     class_weight=None, coef0=0.0,\n",
       "                                     decision_function_shape='ovr', degree=3,\n",
       "                                     gamma=5, kernel='rbf', max_iter=-1,\n",
       "                                     probability=False, random_state=None,\n",
       "                                     shrinking=True, tol=0.001, verbose=False),\n",
       "                  bootstrap=True, bootstrap_features=False, max_features=1.0,\n",
       "                  max_samples=0.2, n_estimators=500, n_jobs=-1, oob_score=True,\n",
       "                  random_state=None, verbose=0, warm_start=False)"
      ]
     },
     "execution_count": 400,
     "metadata": {},
     "output_type": "execute_result"
    }
   ],
   "source": [
    "bag_clf.fit(X_train, y_train)"
   ]
  },
  {
   "cell_type": "code",
   "execution_count": 401,
   "metadata": {},
   "outputs": [
    {
     "data": {
      "text/plain": [
       "0.5291118862355783"
      ]
     },
     "execution_count": 401,
     "metadata": {},
     "output_type": "execute_result"
    }
   ],
   "source": [
    "bag_clf.oob_score_"
   ]
  },
  {
   "cell_type": "code",
   "execution_count": 65,
   "metadata": {},
   "outputs": [
    {
     "data": {
      "text/plain": [
       "0.5010266940451745"
      ]
     },
     "execution_count": 65,
     "metadata": {},
     "output_type": "execute_result"
    }
   ],
   "source": [
    "from sklearn.metrics import accuracy_score\n",
    "y_pred = bag_clf.predict(X_test)\n",
    "accuracy_score(y_test, y_pred)"
   ]
  },
  {
   "cell_type": "code",
   "execution_count": 9,
   "metadata": {},
   "outputs": [
    {
     "data": {
      "text/plain": [
       "array([0., 0., 0., 0., 1., 1., 0., 0., 0., 0., 0., 0., 0., 0., 0., 1., 0.,\n",
       "       0., 0., 0., 0., 0., 0., 0., 0., 0., 1., 0., 1., 0., 1., 0., 0., 0.,\n",
       "       0., 0., 0., 0., 0., 0., 0., 1., 1., 0., 0., 0., 0., 1., 0., 0., 0.,\n",
       "       0., 0., 1., 0., 0., 1., 0., 0., 0., 0., 0., 0., 0., 1., 1., 0., 1.,\n",
       "       0., 1., 0., 0., 1., 0., 0., 1., 0., 0., 0., 0., 0., 0., 0., 0., 0.,\n",
       "       0., 0., 0., 0., 0., 1., 0., 0., 0., 0., 0., 1., 1., 0., 0., 0., 0.,\n",
       "       0., 0., 0., 0., 0., 0., 0., 0., 0., 0., 0., 0., 0., 0., 0., 0., 0.,\n",
       "       0., 1., 0., 0., 0.])"
      ]
     },
     "execution_count": 9,
     "metadata": {},
     "output_type": "execute_result"
    }
   ],
   "source": [
    "y_pred"
   ]
  },
  {
   "cell_type": "code",
   "execution_count": 338,
   "metadata": {},
   "outputs": [],
   "source": [
    "pipe_svc = Pipeline([('standard_scaler', StandardScaler()),                 \n",
    "                ('svc', SVC(kernel='rbf', gamma=5, C=0.001))],)    "
   ]
  },
  {
   "cell_type": "code",
   "execution_count": 339,
   "metadata": {},
   "outputs": [],
   "source": [
    "bag_clf = BaggingClassifier(pipe_svc, n_estimators=100, max_samples=0.8, bootstrap=True, n_jobs=-1, oob_score=True)"
   ]
  },
  {
   "cell_type": "code",
   "execution_count": 340,
   "metadata": {},
   "outputs": [
    {
     "data": {
      "text/plain": [
       "BaggingClassifier(base_estimator=Pipeline(memory=None,\n",
       "                                          steps=[('standard_scaler',\n",
       "                                                  StandardScaler(copy=True,\n",
       "                                                                 with_mean=True,\n",
       "                                                                 with_std=True)),\n",
       "                                                 ('svc',\n",
       "                                                  SVC(C=0.001, break_ties=False,\n",
       "                                                      cache_size=200,\n",
       "                                                      class_weight=None,\n",
       "                                                      coef0=0.0,\n",
       "                                                      decision_function_shape='ovr',\n",
       "                                                      degree=3, gamma=5,\n",
       "                                                      kernel='rbf', max_iter=-1,\n",
       "                                                      probability=False,\n",
       "                                                      random_state=None,\n",
       "                                                      shrinking=True, tol=0.001,\n",
       "                                                      verbose=False))],\n",
       "                                          verbose=False),\n",
       "                  bootstrap=True, bootstrap_features=False, max_features=1.0,\n",
       "                  max_samples=0.8, n_estimators=100, n_jobs=-1, oob_score=True,\n",
       "                  random_state=None, verbose=0, warm_start=False)"
      ]
     },
     "execution_count": 340,
     "metadata": {},
     "output_type": "execute_result"
    }
   ],
   "source": [
    "bag_clf.fit(X_train, y_train)"
   ]
  },
  {
   "cell_type": "code",
   "execution_count": 341,
   "metadata": {},
   "outputs": [
    {
     "data": {
      "text/plain": [
       "0.5334048832841427"
      ]
     },
     "execution_count": 341,
     "metadata": {},
     "output_type": "execute_result"
    }
   ],
   "source": [
    "bag_clf.oob_score_"
   ]
  },
  {
   "cell_type": "code",
   "execution_count": 342,
   "metadata": {},
   "outputs": [
    {
     "data": {
      "text/plain": [
       "0.5012048192771085"
      ]
     },
     "execution_count": 342,
     "metadata": {},
     "output_type": "execute_result"
    }
   ],
   "source": [
    "from sklearn.metrics import accuracy_score\n",
    "y_pred = bag_clf.predict(X_test)\n",
    "accuracy_score(y_test, y_pred)"
   ]
  },
  {
   "cell_type": "code",
   "execution_count": 23,
   "metadata": {},
   "outputs": [
    {
     "data": {
      "text/plain": [
       "array([[-123.8353    , -186.96927   ,    0.95902885,    0.        ],\n",
       "       [ -56.4699    ,  -98.514905  ,    1.0011386 ,    0.        ],\n",
       "       [ -49.82776   ,  -63.934865  ,    0.7820307 ,    0.        ],\n",
       "       ...,\n",
       "       [  24.3786    ,  109.9385    ,    1.08888958,    0.        ],\n",
       "       [  20.6606    ,   98.5783    ,    0.90469388,    1.        ],\n",
       "       [  21.1316    ,   95.61585   ,    1.07101998,    1.        ]])"
      ]
     },
     "execution_count": 23,
     "metadata": {},
     "output_type": "execute_result"
    }
   ],
   "source": [
    "data_index"
   ]
  },
  {
   "cell_type": "code",
   "execution_count": 33,
   "metadata": {},
   "outputs": [
    {
     "data": {
      "text/plain": [
       "['20160825', '20160824', '20160823', '20160822', '20160819', '20160818']"
      ]
     },
     "execution_count": 33,
     "metadata": {},
     "output_type": "execute_result"
    }
   ],
   "source": [
    "data_index_data[-4000:-3994]"
   ]
  },
  {
   "cell_type": "code",
   "execution_count": 34,
   "metadata": {},
   "outputs": [
    {
     "data": {
      "text/plain": [
       "array([[-19.0354    ,  26.8631    ,   0.94978451,   1.        ],\n",
       "       [ -8.6414    ,  48.1144    ,   0.74015537,   0.        ],\n",
       "       [ -9.5504    ,  56.63445   ,   0.73265405,   0.        ],\n",
       "       [-18.5176    ,  53.71045   ,   0.76386159,   1.        ],\n",
       "       [ -3.2986    ,  80.4563    ,   0.81843063,   0.        ],\n",
       "       [  4.2004    ,  81.2326    ,   1.0240724 ,   1.        ]])"
      ]
     },
     "execution_count": 34,
     "metadata": {},
     "output_type": "execute_result"
    }
   ],
   "source": [
    "data_index[-4000:-3994]"
   ]
  },
  {
   "cell_type": "code",
   "execution_count": 50,
   "metadata": {},
   "outputs": [],
   "source": [
    "from sklearn.decomposition import PCA\n",
    "pca = PCA(n_components=8)\n",
    "x2d = pca.fit_transform(X_train)"
   ]
  },
  {
   "cell_type": "code",
   "execution_count": 52,
   "metadata": {},
   "outputs": [
    {
     "data": {
      "text/plain": [
       "array([8.66836641e-01, 1.00605942e-01, 2.24948093e-02, 6.39546964e-03,\n",
       "       2.72543197e-03, 6.45098853e-04, 2.96495911e-04, 1.11695155e-07])"
      ]
     },
     "execution_count": 52,
     "metadata": {},
     "output_type": "execute_result"
    }
   ],
   "source": [
    "pca.explained_variance_ratio_"
   ]
  },
  {
   "cell_type": "code",
   "execution_count": 54,
   "metadata": {},
   "outputs": [
    {
     "data": {
      "text/plain": [
       "8"
      ]
     },
     "execution_count": 54,
     "metadata": {},
     "output_type": "execute_result"
    }
   ],
   "source": [
    "pca."
   ]
  },
  {
   "cell_type": "code",
   "execution_count": 66,
   "metadata": {},
   "outputs": [],
   "source": [
    "import matplotlib.pyplot as plt"
   ]
  },
  {
   "cell_type": "code",
   "execution_count": 81,
   "metadata": {},
   "outputs": [
    {
     "data": {
      "text/plain": [
       "<matplotlib.collections.PathCollection at 0x1a357aff0f0>"
      ]
     },
     "execution_count": 81,
     "metadata": {},
     "output_type": "execute_result"
    },
    {
     "data": {
      "image/png": "[encoded data removed]",
      "image/svg+xml": [
       "<?xml version=\"1.0\" encoding=\"utf-8\" standalone=\"no\"?>\r\n",
       "<!DOCTYPE svg PUBLIC \"-//W3C//DTD SVG 1.1//EN\"\r\n",
       "  \"http://www.w3.org/Graphics/SVG/1.1/DTD/svg11.dtd\">\r\n",
       "<!-- Created with matplotlib (https://matplotlib.org/) -->\r\n",
       "<svg height=\"247.985312pt\" version=\"1.1\" viewBox=\"0 0 370.1 247.985312\" width=\"370.1pt\" xmlns=\"http://www.w3.org/2000/svg\" xmlns:xlink=\"http://www.w3.org/1999/xlink\">\r\n",
       " <defs>\r\n",
       "  <style type=\"text/css\">\r\n",
       "*{stroke-linecap:butt;stroke-linejoin:round;}\r\n",
       "  </style>\r\n",
       " </defs>\r\n",
       " <g id=\"figure_1\">\r\n",
       "  <g id=\"patch_1\">\r\n",
       "   <path d=\"M 0 247.985312 \r\n",
       "L 370.1 247.985312 \r\n",
       "L 370.1 0 \r\n",
       "L 0 0 \r\n",
       "z\r\n",
       "\" style=\"fill:none;\"/>\r\n",
       "  </g>\r\n",
       "  <g id=\"axes_1\">\r\n",
       "   <g id=\"patch_2\">\r\n",
       "    <path d=\"M 28.1 224.64 \r\n",
       "L 362.9 224.64 \r\n",
       "L 362.9 7.2 \r\n",
       "L 28.1 7.2 \r\n",
       "z\r\n",
       "\" style=\"fill:#ffffff;\"/>\r\n",
       "   </g>\r\n",
       "   <g id=\"matplotlib.axis_1\">\r\n",
       "    <g id=\"xtick_1\">\r\n",
       "     <g id=\"line2d_1\">\r\n",
       "      <path clip-path=\"url(#pd8f5cf3e8e)\" d=\"M 34.5437 224.64 \r\n",
       "L 34.5437 7.2 \r\n",
       "\" style=\"fill:none;stroke:#cccccc;stroke-linecap:round;stroke-width:0.8;\"/>\r\n",
       "     </g>\r\n",
       "     <g id=\"text_1\">\r\n",
       "      <!-- −250 -->\r\n",
       "      <defs>\r\n",
       "       <path d=\"M 52.828125 31.203125 \r\n",
       "L 5.5625 31.203125 \r\n",
       "L 5.5625 39.40625 \r\n",
       "L 52.828125 39.40625 \r\n",
       "z\r\n",
       "\" id=\"ArialMT-8722\"/>\r\n",
       "       <path d=\"M 50.34375 8.453125 \r\n",
       "L 50.34375 0 \r\n",
       "L 3.03125 0 \r\n",
       "Q 2.9375 3.171875 4.046875 6.109375 \r\n",
       "Q 5.859375 10.9375 9.828125 15.625 \r\n",
       "Q 13.8125 20.3125 21.34375 26.46875 \r\n",
       "Q 33.015625 36.03125 37.109375 41.625 \r\n",
       "Q 41.21875 47.21875 41.21875 52.203125 \r\n",
       "Q 41.21875 57.421875 37.46875 61 \r\n",
       "Q 33.734375 64.59375 27.734375 64.59375 \r\n",
       "Q 21.390625 64.59375 17.578125 60.78125 \r\n",
       "Q 13.765625 56.984375 13.71875 50.25 \r\n",
       "L 4.6875 51.171875 \r\n",
       "Q 5.609375 61.28125 11.65625 66.578125 \r\n",
       "Q 17.71875 71.875 27.9375 71.875 \r\n",
       "Q 38.234375 71.875 44.234375 66.15625 \r\n",
       "Q 50.25 60.453125 50.25 52 \r\n",
       "Q 50.25 47.703125 48.484375 43.546875 \r\n",
       "Q 46.734375 39.40625 42.65625 34.8125 \r\n",
       "Q 38.578125 30.21875 29.109375 22.21875 \r\n",
       "Q 21.1875 15.578125 18.9375 13.203125 \r\n",
       "Q 16.703125 10.84375 15.234375 8.453125 \r\n",
       "z\r\n",
       "\" id=\"ArialMT-50\"/>\r\n",
       "       <path d=\"M 4.15625 18.75 \r\n",
       "L 13.375 19.53125 \r\n",
       "Q 14.40625 12.796875 18.140625 9.390625 \r\n",
       "Q 21.875 6 27.15625 6 \r\n",
       "Q 33.5 6 37.890625 10.78125 \r\n",
       "Q 42.28125 15.578125 42.28125 23.484375 \r\n",
       "Q 42.28125 31 38.0625 35.34375 \r\n",
       "Q 33.84375 39.703125 27 39.703125 \r\n",
       "Q 22.75 39.703125 19.328125 37.765625 \r\n",
       "Q 15.921875 35.84375 13.96875 32.765625 \r\n",
       "L 5.71875 33.84375 \r\n",
       "L 12.640625 70.609375 \r\n",
       "L 48.25 70.609375 \r\n",
       "L 48.25 62.203125 \r\n",
       "L 19.671875 62.203125 \r\n",
       "L 15.828125 42.96875 \r\n",
       "Q 22.265625 47.46875 29.34375 47.46875 \r\n",
       "Q 38.71875 47.46875 45.15625 40.96875 \r\n",
       "Q 51.609375 34.46875 51.609375 24.265625 \r\n",
       "Q 51.609375 14.546875 45.953125 7.46875 \r\n",
       "Q 39.0625 -1.21875 27.15625 -1.21875 \r\n",
       "Q 17.390625 -1.21875 11.203125 4.25 \r\n",
       "Q 5.03125 9.71875 4.15625 18.75 \r\n",
       "z\r\n",
       "\" id=\"ArialMT-53\"/>\r\n",
       "       <path d=\"M 4.15625 35.296875 \r\n",
       "Q 4.15625 48 6.765625 55.734375 \r\n",
       "Q 9.375 63.484375 14.515625 67.671875 \r\n",
       "Q 19.671875 71.875 27.484375 71.875 \r\n",
       "Q 33.25 71.875 37.59375 69.546875 \r\n",
       "Q 41.9375 67.234375 44.765625 62.859375 \r\n",
       "Q 47.609375 58.5 49.21875 52.21875 \r\n",
       "Q 50.828125 45.953125 50.828125 35.296875 \r\n",
       "Q 50.828125 22.703125 48.234375 14.96875 \r\n",
       "Q 45.65625 7.234375 40.5 3 \r\n",
       "Q 35.359375 -1.21875 27.484375 -1.21875 \r\n",
       "Q 17.140625 -1.21875 11.234375 6.203125 \r\n",
       "Q 4.15625 15.140625 4.15625 35.296875 \r\n",
       "z\r\n",
       "M 13.1875 35.296875 \r\n",
       "Q 13.1875 17.671875 17.3125 11.828125 \r\n",
       "Q 21.4375 6 27.484375 6 \r\n",
       "Q 33.546875 6 37.671875 11.859375 \r\n",
       "Q 41.796875 17.71875 41.796875 35.296875 \r\n",
       "Q 41.796875 52.984375 37.671875 58.78125 \r\n",
       "Q 33.546875 64.59375 27.390625 64.59375 \r\n",
       "Q 21.34375 64.59375 17.71875 59.46875 \r\n",
       "Q 13.1875 52.9375 13.1875 35.296875 \r\n",
       "z\r\n",
       "\" id=\"ArialMT-48\"/>\r\n",
       "      </defs>\r\n",
       "      <g style=\"fill:#262626;\" transform=\"translate(23.281981 238.797812)scale(0.1 -0.1)\">\r\n",
       "       <use xlink:href=\"#ArialMT-8722\"/>\r\n",
       "       <use x=\"58.398438\" xlink:href=\"#ArialMT-50\"/>\r\n",
       "       <use x=\"114.013672\" xlink:href=\"#ArialMT-53\"/>\r\n",
       "       <use x=\"169.628906\" xlink:href=\"#ArialMT-48\"/>\r\n",
       "      </g>\r\n",
       "     </g>\r\n",
       "    </g>\r\n",
       "    <g id=\"xtick_2\">\r\n",
       "     <g id=\"line2d_2\">\r\n",
       "      <path clip-path=\"url(#pd8f5cf3e8e)\" d=\"M 77.416489 224.64 \r\n",
       "L 77.416489 7.2 \r\n",
       "\" style=\"fill:none;stroke:#cccccc;stroke-linecap:round;stroke-width:0.8;\"/>\r\n",
       "     </g>\r\n",
       "     <g id=\"text_2\">\r\n",
       "      <!-- −200 -->\r\n",
       "      <g style=\"fill:#262626;\" transform=\"translate(66.15477 238.797812)scale(0.1 -0.1)\">\r\n",
       "       <use xlink:href=\"#ArialMT-8722\"/>\r\n",
       "       <use x=\"58.398438\" xlink:href=\"#ArialMT-50\"/>\r\n",
       "       <use x=\"114.013672\" xlink:href=\"#ArialMT-48\"/>\r\n",
       "       <use x=\"169.628906\" xlink:href=\"#ArialMT-48\"/>\r\n",
       "      </g>\r\n",
       "     </g>\r\n",
       "    </g>\r\n",
       "    <g id=\"xtick_3\">\r\n",
       "     <g id=\"line2d_3\">\r\n",
       "      <path clip-path=\"url(#pd8f5cf3e8e)\" d=\"M 120.289278 224.64 \r\n",
       "L 120.289278 7.2 \r\n",
       "\" style=\"fill:none;stroke:#cccccc;stroke-linecap:round;stroke-width:0.8;\"/>\r\n",
       "     </g>\r\n",
       "     <g id=\"text_3\">\r\n",
       "      <!-- −150 -->\r\n",
       "      <defs>\r\n",
       "       <path d=\"M 37.25 0 \r\n",
       "L 28.46875 0 \r\n",
       "L 28.46875 56 \r\n",
       "Q 25.296875 52.984375 20.140625 49.953125 \r\n",
       "Q 14.984375 46.921875 10.890625 45.40625 \r\n",
       "L 10.890625 53.90625 \r\n",
       "Q 18.265625 57.375 23.78125 62.296875 \r\n",
       "Q 29.296875 67.234375 31.59375 71.875 \r\n",
       "L 37.25 71.875 \r\n",
       "z\r\n",
       "\" id=\"ArialMT-49\"/>\r\n",
       "      </defs>\r\n",
       "      <g style=\"fill:#262626;\" transform=\"translate(109.027559 238.797812)scale(0.1 -0.1)\">\r\n",
       "       <use xlink:href=\"#ArialMT-8722\"/>\r\n",
       "       <use x=\"58.398438\" xlink:href=\"#ArialMT-49\"/>\r\n",
       "       <use x=\"114.013672\" xlink:href=\"#ArialMT-53\"/>\r\n",
       "       <use x=\"169.628906\" xlink:href=\"#ArialMT-48\"/>\r\n",
       "      </g>\r\n",
       "     </g>\r\n",
       "    </g>\r\n",
       "    <g id=\"xtick_4\">\r\n",
       "     <g id=\"line2d_4\">\r\n",
       "      <path clip-path=\"url(#pd8f5cf3e8e)\" d=\"M 163.162067 224.64 \r\n",
       "L 163.162067 7.2 \r\n",
       "\" style=\"fill:none;stroke:#cccccc;stroke-linecap:round;stroke-width:0.8;\"/>\r\n",
       "     </g>\r\n",
       "     <g id=\"text_4\">\r\n",
       "      <!-- −100 -->\r\n",
       "      <g style=\"fill:#262626;\" transform=\"translate(151.900348 238.797812)scale(0.1 -0.1)\">\r\n",
       "       <use xlink:href=\"#ArialMT-8722\"/>\r\n",
       "       <use x=\"58.398438\" xlink:href=\"#ArialMT-49\"/>\r\n",
       "       <use x=\"114.013672\" xlink:href=\"#ArialMT-48\"/>\r\n",
       "       <use x=\"169.628906\" xlink:href=\"#ArialMT-48\"/>\r\n",
       "      </g>\r\n",
       "     </g>\r\n",
       "    </g>\r\n",
       "    <g id=\"xtick_5\">\r\n",
       "     <g id=\"line2d_5\">\r\n",
       "      <path clip-path=\"url(#pd8f5cf3e8e)\" d=\"M 206.034856 224.64 \r\n",
       "L 206.034856 7.2 \r\n",
       "\" style=\"fill:none;stroke:#cccccc;stroke-linecap:round;stroke-width:0.8;\"/>\r\n",
       "     </g>\r\n",
       "     <g id=\"text_5\">\r\n",
       "      <!-- −50 -->\r\n",
       "      <g style=\"fill:#262626;\" transform=\"translate(197.553606 238.797812)scale(0.1 -0.1)\">\r\n",
       "       <use xlink:href=\"#ArialMT-8722\"/>\r\n",
       "       <use x=\"58.398438\" xlink:href=\"#ArialMT-53\"/>\r\n",
       "       <use x=\"114.013672\" xlink:href=\"#ArialMT-48\"/>\r\n",
       "      </g>\r\n",
       "     </g>\r\n",
       "    </g>\r\n",
       "    <g id=\"xtick_6\">\r\n",
       "     <g id=\"line2d_6\">\r\n",
       "      <path clip-path=\"url(#pd8f5cf3e8e)\" d=\"M 248.907645 224.64 \r\n",
       "L 248.907645 7.2 \r\n",
       "\" style=\"fill:none;stroke:#cccccc;stroke-linecap:round;stroke-width:0.8;\"/>\r\n",
       "     </g>\r\n",
       "     <g id=\"text_6\">\r\n",
       "      <!-- 0 -->\r\n",
       "      <g style=\"fill:#262626;\" transform=\"translate(246.127176 238.797812)scale(0.1 -0.1)\">\r\n",
       "       <use xlink:href=\"#ArialMT-48\"/>\r\n",
       "      </g>\r\n",
       "     </g>\r\n",
       "    </g>\r\n",
       "    <g id=\"xtick_7\">\r\n",
       "     <g id=\"line2d_7\">\r\n",
       "      <path clip-path=\"url(#pd8f5cf3e8e)\" d=\"M 291.780434 224.64 \r\n",
       "L 291.780434 7.2 \r\n",
       "\" style=\"fill:none;stroke:#cccccc;stroke-linecap:round;stroke-width:0.8;\"/>\r\n",
       "     </g>\r\n",
       "     <g id=\"text_7\">\r\n",
       "      <!-- 50 -->\r\n",
       "      <g style=\"fill:#262626;\" transform=\"translate(286.219497 238.797812)scale(0.1 -0.1)\">\r\n",
       "       <use xlink:href=\"#ArialMT-53\"/>\r\n",
       "       <use x=\"55.615234\" xlink:href=\"#ArialMT-48\"/>\r\n",
       "      </g>\r\n",
       "     </g>\r\n",
       "    </g>\r\n",
       "    <g id=\"xtick_8\">\r\n",
       "     <g id=\"line2d_8\">\r\n",
       "      <path clip-path=\"url(#pd8f5cf3e8e)\" d=\"M 334.653223 224.64 \r\n",
       "L 334.653223 7.2 \r\n",
       "\" style=\"fill:none;stroke:#cccccc;stroke-linecap:round;stroke-width:0.8;\"/>\r\n",
       "     </g>\r\n",
       "     <g id=\"text_8\">\r\n",
       "      <!-- 100 -->\r\n",
       "      <g style=\"fill:#262626;\" transform=\"translate(326.311817 238.797812)scale(0.1 -0.1)\">\r\n",
       "       <use xlink:href=\"#ArialMT-49\"/>\r\n",
       "       <use x=\"55.615234\" xlink:href=\"#ArialMT-48\"/>\r\n",
       "       <use x=\"111.230469\" xlink:href=\"#ArialMT-48\"/>\r\n",
       "      </g>\r\n",
       "     </g>\r\n",
       "    </g>\r\n",
       "   </g>\r\n",
       "   <g id=\"matplotlib.axis_2\">\r\n",
       "    <g id=\"ytick_1\">\r\n",
       "     <g id=\"line2d_9\">\r\n",
       "      <path clip-path=\"url(#pd8f5cf3e8e)\" d=\"M 28.1 187.216359 \r\n",
       "L 362.9 187.216359 \r\n",
       "\" style=\"fill:none;stroke:#cccccc;stroke-linecap:round;stroke-width:0.8;\"/>\r\n",
       "     </g>\r\n",
       "     <g id=\"text_9\">\r\n",
       "      <!-- 0.8 -->\r\n",
       "      <defs>\r\n",
       "       <path d=\"M 9.078125 0 \r\n",
       "L 9.078125 10.015625 \r\n",
       "L 19.09375 10.015625 \r\n",
       "L 19.09375 0 \r\n",
       "z\r\n",
       "\" id=\"ArialMT-46\"/>\r\n",
       "       <path d=\"M 17.671875 38.8125 \r\n",
       "Q 12.203125 40.828125 9.5625 44.53125 \r\n",
       "Q 6.9375 48.25 6.9375 53.421875 \r\n",
       "Q 6.9375 61.234375 12.546875 66.546875 \r\n",
       "Q 18.171875 71.875 27.484375 71.875 \r\n",
       "Q 36.859375 71.875 42.578125 66.421875 \r\n",
       "Q 48.296875 60.984375 48.296875 53.171875 \r\n",
       "Q 48.296875 48.1875 45.671875 44.5 \r\n",
       "Q 43.0625 40.828125 37.75 38.8125 \r\n",
       "Q 44.34375 36.671875 47.78125 31.875 \r\n",
       "Q 51.21875 27.09375 51.21875 20.453125 \r\n",
       "Q 51.21875 11.28125 44.71875 5.03125 \r\n",
       "Q 38.234375 -1.21875 27.640625 -1.21875 \r\n",
       "Q 17.046875 -1.21875 10.546875 5.046875 \r\n",
       "Q 4.046875 11.328125 4.046875 20.703125 \r\n",
       "Q 4.046875 27.6875 7.59375 32.390625 \r\n",
       "Q 11.140625 37.109375 17.671875 38.8125 \r\n",
       "z\r\n",
       "M 15.921875 53.71875 \r\n",
       "Q 15.921875 48.640625 19.1875 45.40625 \r\n",
       "Q 22.46875 42.1875 27.6875 42.1875 \r\n",
       "Q 32.765625 42.1875 36.015625 45.375 \r\n",
       "Q 39.265625 48.578125 39.265625 53.21875 \r\n",
       "Q 39.265625 58.0625 35.90625 61.359375 \r\n",
       "Q 32.5625 64.65625 27.59375 64.65625 \r\n",
       "Q 22.5625 64.65625 19.234375 61.421875 \r\n",
       "Q 15.921875 58.203125 15.921875 53.71875 \r\n",
       "z\r\n",
       "M 13.09375 20.65625 \r\n",
       "Q 13.09375 16.890625 14.875 13.375 \r\n",
       "Q 16.65625 9.859375 20.171875 7.921875 \r\n",
       "Q 23.6875 6 27.734375 6 \r\n",
       "Q 34.03125 6 38.125 10.046875 \r\n",
       "Q 42.234375 14.109375 42.234375 20.359375 \r\n",
       "Q 42.234375 26.703125 38.015625 30.859375 \r\n",
       "Q 33.796875 35.015625 27.4375 35.015625 \r\n",
       "Q 21.234375 35.015625 17.15625 30.90625 \r\n",
       "Q 13.09375 26.8125 13.09375 20.65625 \r\n",
       "z\r\n",
       "\" id=\"ArialMT-56\"/>\r\n",
       "      </defs>\r\n",
       "      <g style=\"fill:#262626;\" transform=\"translate(7.2 190.795266)scale(0.1 -0.1)\">\r\n",
       "       <use xlink:href=\"#ArialMT-48\"/>\r\n",
       "       <use x=\"55.615234\" xlink:href=\"#ArialMT-46\"/>\r\n",
       "       <use x=\"83.398438\" xlink:href=\"#ArialMT-56\"/>\r\n",
       "      </g>\r\n",
       "     </g>\r\n",
       "    </g>\r\n",
       "    <g id=\"ytick_2\">\r\n",
       "     <g id=\"line2d_10\">\r\n",
       "      <path clip-path=\"url(#pd8f5cf3e8e)\" d=\"M 28.1 145.475939 \r\n",
       "L 362.9 145.475939 \r\n",
       "\" style=\"fill:none;stroke:#cccccc;stroke-linecap:round;stroke-width:0.8;\"/>\r\n",
       "     </g>\r\n",
       "     <g id=\"text_10\">\r\n",
       "      <!-- 1.0 -->\r\n",
       "      <g style=\"fill:#262626;\" transform=\"translate(7.2 149.054845)scale(0.1 -0.1)\">\r\n",
       "       <use xlink:href=\"#ArialMT-49\"/>\r\n",
       "       <use x=\"55.615234\" xlink:href=\"#ArialMT-46\"/>\r\n",
       "       <use x=\"83.398438\" xlink:href=\"#ArialMT-48\"/>\r\n",
       "      </g>\r\n",
       "     </g>\r\n",
       "    </g>\r\n",
       "    <g id=\"ytick_3\">\r\n",
       "     <g id=\"line2d_11\">\r\n",
       "      <path clip-path=\"url(#pd8f5cf3e8e)\" d=\"M 28.1 103.735518 \r\n",
       "L 362.9 103.735518 \r\n",
       "\" style=\"fill:none;stroke:#cccccc;stroke-linecap:round;stroke-width:0.8;\"/>\r\n",
       "     </g>\r\n",
       "     <g id=\"text_11\">\r\n",
       "      <!-- 1.2 -->\r\n",
       "      <g style=\"fill:#262626;\" transform=\"translate(7.2 107.314424)scale(0.1 -0.1)\">\r\n",
       "       <use xlink:href=\"#ArialMT-49\"/>\r\n",
       "       <use x=\"55.615234\" xlink:href=\"#ArialMT-46\"/>\r\n",
       "       <use x=\"83.398438\" xlink:href=\"#ArialMT-50\"/>\r\n",
       "      </g>\r\n",
       "     </g>\r\n",
       "    </g>\r\n",
       "    <g id=\"ytick_4\">\r\n",
       "     <g id=\"line2d_12\">\r\n",
       "      <path clip-path=\"url(#pd8f5cf3e8e)\" d=\"M 28.1 61.995097 \r\n",
       "L 362.9 61.995097 \r\n",
       "\" style=\"fill:none;stroke:#cccccc;stroke-linecap:round;stroke-width:0.8;\"/>\r\n",
       "     </g>\r\n",
       "     <g id=\"text_12\">\r\n",
       "      <!-- 1.4 -->\r\n",
       "      <defs>\r\n",
       "       <path d=\"M 32.328125 0 \r\n",
       "L 32.328125 17.140625 \r\n",
       "L 1.265625 17.140625 \r\n",
       "L 1.265625 25.203125 \r\n",
       "L 33.9375 71.578125 \r\n",
       "L 41.109375 71.578125 \r\n",
       "L 41.109375 25.203125 \r\n",
       "L 50.78125 25.203125 \r\n",
       "L 50.78125 17.140625 \r\n",
       "L 41.109375 17.140625 \r\n",
       "L 41.109375 0 \r\n",
       "z\r\n",
       "M 32.328125 25.203125 \r\n",
       "L 32.328125 57.46875 \r\n",
       "L 9.90625 25.203125 \r\n",
       "z\r\n",
       "\" id=\"ArialMT-52\"/>\r\n",
       "      </defs>\r\n",
       "      <g style=\"fill:#262626;\" transform=\"translate(7.2 65.574003)scale(0.1 -0.1)\">\r\n",
       "       <use xlink:href=\"#ArialMT-49\"/>\r\n",
       "       <use x=\"55.615234\" xlink:href=\"#ArialMT-46\"/>\r\n",
       "       <use x=\"83.398438\" xlink:href=\"#ArialMT-52\"/>\r\n",
       "      </g>\r\n",
       "     </g>\r\n",
       "    </g>\r\n",
       "    <g id=\"ytick_5\">\r\n",
       "     <g id=\"line2d_13\">\r\n",
       "      <path clip-path=\"url(#pd8f5cf3e8e)\" d=\"M 28.1 20.254676 \r\n",
       "L 362.9 20.254676 \r\n",
       "\" style=\"fill:none;stroke:#cccccc;stroke-linecap:round;stroke-width:0.8;\"/>\r\n",
       "     </g>\r\n",
       "     <g id=\"text_13\">\r\n",
       "      <!-- 1.6 -->\r\n",
       "      <defs>\r\n",
       "       <path d=\"M 49.75 54.046875 \r\n",
       "L 41.015625 53.375 \r\n",
       "Q 39.84375 58.546875 37.703125 60.890625 \r\n",
       "Q 34.125 64.65625 28.90625 64.65625 \r\n",
       "Q 24.703125 64.65625 21.53125 62.3125 \r\n",
       "Q 17.390625 59.28125 14.984375 53.46875 \r\n",
       "Q 12.59375 47.65625 12.5 36.921875 \r\n",
       "Q 15.671875 41.75 20.265625 44.09375 \r\n",
       "Q 24.859375 46.4375 29.890625 46.4375 \r\n",
       "Q 38.671875 46.4375 44.84375 39.96875 \r\n",
       "Q 51.03125 33.5 51.03125 23.25 \r\n",
       "Q 51.03125 16.5 48.125 10.71875 \r\n",
       "Q 45.21875 4.9375 40.140625 1.859375 \r\n",
       "Q 35.0625 -1.21875 28.609375 -1.21875 \r\n",
       "Q 17.625 -1.21875 10.6875 6.859375 \r\n",
       "Q 3.765625 14.9375 3.765625 33.5 \r\n",
       "Q 3.765625 54.25 11.421875 63.671875 \r\n",
       "Q 18.109375 71.875 29.4375 71.875 \r\n",
       "Q 37.890625 71.875 43.28125 67.140625 \r\n",
       "Q 48.6875 62.40625 49.75 54.046875 \r\n",
       "z\r\n",
       "M 13.875 23.1875 \r\n",
       "Q 13.875 18.65625 15.796875 14.5 \r\n",
       "Q 17.71875 10.359375 21.1875 8.171875 \r\n",
       "Q 24.65625 6 28.46875 6 \r\n",
       "Q 34.03125 6 38.03125 10.484375 \r\n",
       "Q 42.046875 14.984375 42.046875 22.703125 \r\n",
       "Q 42.046875 30.125 38.078125 34.390625 \r\n",
       "Q 34.125 38.671875 28.125 38.671875 \r\n",
       "Q 22.171875 38.671875 18.015625 34.390625 \r\n",
       "Q 13.875 30.125 13.875 23.1875 \r\n",
       "z\r\n",
       "\" id=\"ArialMT-54\"/>\r\n",
       "      </defs>\r\n",
       "      <g style=\"fill:#262626;\" transform=\"translate(7.2 23.833582)scale(0.1 -0.1)\">\r\n",
       "       <use xlink:href=\"#ArialMT-49\"/>\r\n",
       "       <use x=\"55.615234\" xlink:href=\"#ArialMT-46\"/>\r\n",
       "       <use x=\"83.398438\" xlink:href=\"#ArialMT-54\"/>\r\n",
       "      </g>\r\n",
       "     </g>\r\n",
       "    </g>\r\n",
       "   </g>\r\n",
       "   <g id=\"PathCollection_1\">\r\n",
       "    <defs>\r\n",
       "     <path d=\"M -0 3 \r\n",
       "L 3 -3 \r\n",
       "L -3 -3 \r\n",
       "z\r\n",
       "\" id=\"mb14b0db617\" style=\"stroke:#1f77b4;\"/>\r\n",
       "    </defs>\r\n",
       "    <g clip-path=\"url(#pd8f5cf3e8e)\">\r\n",
       "     <use style=\"fill:#1f77b4;stroke:#1f77b4;\" x=\"279.39097\" xlink:href=\"#mb14b0db617\" y=\"107.830941\"/>\r\n",
       "     <use style=\"fill:#1f77b4;stroke:#1f77b4;\" x=\"280.31529\" xlink:href=\"#mb14b0db617\" y=\"88.392733\"/>\r\n",
       "     <use style=\"fill:#1f77b4;stroke:#1f77b4;\" x=\"285.964689\" xlink:href=\"#mb14b0db617\" y=\"139.024843\"/>\r\n",
       "     <use style=\"fill:#1f77b4;stroke:#1f77b4;\" x=\"243.994372\" xlink:href=\"#mb14b0db617\" y=\"190.949218\"/>\r\n",
       "     <use style=\"fill:#1f77b4;stroke:#1f77b4;\" x=\"247.241111\" xlink:href=\"#mb14b0db617\" y=\"145.746199\"/>\r\n",
       "     <use style=\"fill:#1f77b4;stroke:#1f77b4;\" x=\"260.086725\" xlink:href=\"#mb14b0db617\" y=\"95.924671\"/>\r\n",
       "     <use style=\"fill:#1f77b4;stroke:#1f77b4;\" x=\"243.921745\" xlink:href=\"#mb14b0db617\" y=\"211.87692\"/>\r\n",
       "     <use style=\"fill:#1f77b4;stroke:#1f77b4;\" x=\"254.085649\" xlink:href=\"#mb14b0db617\" y=\"144.830506\"/>\r\n",
       "     <use style=\"fill:#1f77b4;stroke:#1f77b4;\" x=\"218.119409\" xlink:href=\"#mb14b0db617\" y=\"148.312294\"/>\r\n",
       "     <use style=\"fill:#1f77b4;stroke:#1f77b4;\" x=\"347.674135\" xlink:href=\"#mb14b0db617\" y=\"66.083671\"/>\r\n",
       "     <use style=\"fill:#1f77b4;stroke:#1f77b4;\" x=\"277.409732\" xlink:href=\"#mb14b0db617\" y=\"130.926238\"/>\r\n",
       "     <use style=\"fill:#1f77b4;stroke:#1f77b4;\" x=\"282.959409\" xlink:href=\"#mb14b0db617\" y=\"71.356291\"/>\r\n",
       "     <use style=\"fill:#1f77b4;stroke:#1f77b4;\" x=\"278.139359\" xlink:href=\"#mb14b0db617\" y=\"96.829197\"/>\r\n",
       "     <use style=\"fill:#1f77b4;stroke:#1f77b4;\" x=\"228.093335\" xlink:href=\"#mb14b0db617\" y=\"201.617036\"/>\r\n",
       "     <use style=\"fill:#1f77b4;stroke:#1f77b4;\" x=\"274.639807\" xlink:href=\"#mb14b0db617\" y=\"114.606174\"/>\r\n",
       "     <use style=\"fill:#1f77b4;stroke:#1f77b4;\" x=\"267.091864\" xlink:href=\"#mb14b0db617\" y=\"116.874166\"/>\r\n",
       "     <use style=\"fill:#1f77b4;stroke:#1f77b4;\" x=\"267.765533\" xlink:href=\"#mb14b0db617\" y=\"136.792055\"/>\r\n",
       "     <use style=\"fill:#1f77b4;stroke:#1f77b4;\" x=\"260.282533\" xlink:href=\"#mb14b0db617\" y=\"145.863013\"/>\r\n",
       "     <use style=\"fill:#1f77b4;stroke:#1f77b4;\" x=\"233.538059\" xlink:href=\"#mb14b0db617\" y=\"125.717468\"/>\r\n",
       "     <use style=\"fill:#1f77b4;stroke:#1f77b4;\" x=\"279.300045\" xlink:href=\"#mb14b0db617\" y=\"142.100503\"/>\r\n",
       "     <use style=\"fill:#1f77b4;stroke:#1f77b4;\" x=\"256.26393\" xlink:href=\"#mb14b0db617\" y=\"166.966272\"/>\r\n",
       "     <use style=\"fill:#1f77b4;stroke:#1f77b4;\" x=\"223.744148\" xlink:href=\"#mb14b0db617\" y=\"171.090748\"/>\r\n",
       "     <use style=\"fill:#1f77b4;stroke:#1f77b4;\" x=\"191.014272\" xlink:href=\"#mb14b0db617\" y=\"130.98976\"/>\r\n",
       "     <use style=\"fill:#1f77b4;stroke:#1f77b4;\" x=\"259.009297\" xlink:href=\"#mb14b0db617\" y=\"176.158402\"/>\r\n",
       "     <use style=\"fill:#1f77b4;stroke:#1f77b4;\" x=\"249.566154\" xlink:href=\"#mb14b0db617\" y=\"159.370389\"/>\r\n",
       "     <use style=\"fill:#1f77b4;stroke:#1f77b4;\" x=\"234.000982\" xlink:href=\"#mb14b0db617\" y=\"150.774807\"/>\r\n",
       "     <use style=\"fill:#1f77b4;stroke:#1f77b4;\" x=\"263.565852\" xlink:href=\"#mb14b0db617\" y=\"80.423212\"/>\r\n",
       "     <use style=\"fill:#1f77b4;stroke:#1f77b4;\" x=\"304.681714\" xlink:href=\"#mb14b0db617\" y=\"65.923599\"/>\r\n",
       "     <use style=\"fill:#1f77b4;stroke:#1f77b4;\" x=\"230.319204\" xlink:href=\"#mb14b0db617\" y=\"160.681348\"/>\r\n",
       "     <use style=\"fill:#1f77b4;stroke:#1f77b4;\" x=\"242.062867\" xlink:href=\"#mb14b0db617\" y=\"177.342193\"/>\r\n",
       "     <use style=\"fill:#1f77b4;stroke:#1f77b4;\" x=\"202.063361\" xlink:href=\"#mb14b0db617\" y=\"147.961712\"/>\r\n",
       "     <use style=\"fill:#1f77b4;stroke:#1f77b4;\" x=\"252.171156\" xlink:href=\"#mb14b0db617\" y=\"168.393658\"/>\r\n",
       "     <use style=\"fill:#1f77b4;stroke:#1f77b4;\" x=\"230.246989\" xlink:href=\"#mb14b0db617\" y=\"193.296409\"/>\r\n",
       "     <use style=\"fill:#1f77b4;stroke:#1f77b4;\" x=\"273.104138\" xlink:href=\"#mb14b0db617\" y=\"143.337865\"/>\r\n",
       "     <use style=\"fill:#1f77b4;stroke:#1f77b4;\" x=\"252.196605\" xlink:href=\"#mb14b0db617\" y=\"196.416095\"/>\r\n",
       "     <use style=\"fill:#1f77b4;stroke:#1f77b4;\" x=\"259.209565\" xlink:href=\"#mb14b0db617\" y=\"145.75319\"/>\r\n",
       "     <use style=\"fill:#1f77b4;stroke:#1f77b4;\" x=\"261.684062\" xlink:href=\"#mb14b0db617\" y=\"96.649904\"/>\r\n",
       "     <use style=\"fill:#1f77b4;stroke:#1f77b4;\" x=\"256.314811\" xlink:href=\"#mb14b0db617\" y=\"134.563455\"/>\r\n",
       "     <use style=\"fill:#1f77b4;stroke:#1f77b4;\" x=\"266.181503\" xlink:href=\"#mb14b0db617\" y=\"106.01515\"/>\r\n",
       "     <use style=\"fill:#1f77b4;stroke:#1f77b4;\" x=\"213.789034\" xlink:href=\"#mb14b0db617\" y=\"153.730406\"/>\r\n",
       "     <use style=\"fill:#1f77b4;stroke:#1f77b4;\" x=\"230.680759\" xlink:href=\"#mb14b0db617\" y=\"196.486661\"/>\r\n",
       "     <use style=\"fill:#1f77b4;stroke:#1f77b4;\" x=\"293.429013\" xlink:href=\"#mb14b0db617\" y=\"107.992022\"/>\r\n",
       "     <use style=\"fill:#1f77b4;stroke:#1f77b4;\" x=\"213.246659\" xlink:href=\"#mb14b0db617\" y=\"120.97703\"/>\r\n",
       "     <use style=\"fill:#1f77b4;stroke:#1f77b4;\" x=\"285.126954\" xlink:href=\"#mb14b0db617\" y=\"169.65878\"/>\r\n",
       "     <use style=\"fill:#1f77b4;stroke:#1f77b4;\" x=\"300.462671\" xlink:href=\"#mb14b0db617\" y=\"158.527014\"/>\r\n",
       "     <use style=\"fill:#1f77b4;stroke:#1f77b4;\" x=\"301.254\" xlink:href=\"#mb14b0db617\" y=\"120.939298\"/>\r\n",
       "     <use style=\"fill:#1f77b4;stroke:#1f77b4;\" x=\"270.055917\" xlink:href=\"#mb14b0db617\" y=\"127.543864\"/>\r\n",
       "     <use style=\"fill:#1f77b4;stroke:#1f77b4;\" x=\"162.76323\" xlink:href=\"#mb14b0db617\" y=\"144.440754\"/>\r\n",
       "     <use style=\"fill:#1f77b4;stroke:#1f77b4;\" x=\"243.238782\" xlink:href=\"#mb14b0db617\" y=\"172.772589\"/>\r\n",
       "     <use style=\"fill:#1f77b4;stroke:#1f77b4;\" x=\"270.446385\" xlink:href=\"#mb14b0db617\" y=\"150.138262\"/>\r\n",
       "     <use style=\"fill:#1f77b4;stroke:#1f77b4;\" x=\"258.185128\" xlink:href=\"#mb14b0db617\" y=\"144.86648\"/>\r\n",
       "     <use style=\"fill:#1f77b4;stroke:#1f77b4;\" x=\"124.541161\" xlink:href=\"#mb14b0db617\" y=\"109.773599\"/>\r\n",
       "     <use style=\"fill:#1f77b4;stroke:#1f77b4;\" x=\"297.411329\" xlink:href=\"#mb14b0db617\" y=\"109.966292\"/>\r\n",
       "     <use style=\"fill:#1f77b4;stroke:#1f77b4;\" x=\"291.01747\" xlink:href=\"#mb14b0db617\" y=\"32.183537\"/>\r\n",
       "     <use style=\"fill:#1f77b4;stroke:#1f77b4;\" x=\"250.813495\" xlink:href=\"#mb14b0db617\" y=\"165.616384\"/>\r\n",
       "     <use style=\"fill:#1f77b4;stroke:#1f77b4;\" x=\"253.927037\" xlink:href=\"#mb14b0db617\" y=\"154.858461\"/>\r\n",
       "     <use style=\"fill:#1f77b4;stroke:#1f77b4;\" x=\"240.713043\" xlink:href=\"#mb14b0db617\" y=\"183.769948\"/>\r\n",
       "     <use style=\"fill:#1f77b4;stroke:#1f77b4;\" x=\"267.760079\" xlink:href=\"#mb14b0db617\" y=\"119.123939\"/>\r\n",
       "     <use style=\"fill:#1f77b4;stroke:#1f77b4;\" x=\"261.624743\" xlink:href=\"#mb14b0db617\" y=\"190.193073\"/>\r\n",
       "     <use style=\"fill:#1f77b4;stroke:#1f77b4;\" x=\"217.755779\" xlink:href=\"#mb14b0db617\" y=\"206.173821\"/>\r\n",
       "     <use style=\"fill:#1f77b4;stroke:#1f77b4;\" x=\"247.313583\" xlink:href=\"#mb14b0db617\" y=\"79.836033\"/>\r\n",
       "     <use style=\"fill:#1f77b4;stroke:#1f77b4;\" x=\"263.246604\" xlink:href=\"#mb14b0db617\" y=\"98.15042\"/>\r\n",
       "     <use style=\"fill:#1f77b4;stroke:#1f77b4;\" x=\"236.185454\" xlink:href=\"#mb14b0db617\" y=\"210.037724\"/>\r\n",
       "     <use style=\"fill:#1f77b4;stroke:#1f77b4;\" x=\"247.180403\" xlink:href=\"#mb14b0db617\" y=\"149.863469\"/>\r\n",
       "     <use style=\"fill:#1f77b4;stroke:#1f77b4;\" x=\"214.196\" xlink:href=\"#mb14b0db617\" y=\"157.945382\"/>\r\n",
       "     <use style=\"fill:#1f77b4;stroke:#1f77b4;\" x=\"269.695014\" xlink:href=\"#mb14b0db617\" y=\"141.37291\"/>\r\n",
       "     <use style=\"fill:#1f77b4;stroke:#1f77b4;\" x=\"211.746935\" xlink:href=\"#mb14b0db617\" y=\"200.525572\"/>\r\n",
       "     <use style=\"fill:#1f77b4;stroke:#1f77b4;\" x=\"224.810908\" xlink:href=\"#mb14b0db617\" y=\"172.8365\"/>\r\n",
       "     <use style=\"fill:#1f77b4;stroke:#1f77b4;\" x=\"283.77118\" xlink:href=\"#mb14b0db617\" y=\"91.235954\"/>\r\n",
       "     <use style=\"fill:#1f77b4;stroke:#1f77b4;\" x=\"248.136809\" xlink:href=\"#mb14b0db617\" y=\"149.813803\"/>\r\n",
       "     <use style=\"fill:#1f77b4;stroke:#1f77b4;\" x=\"245.832586\" xlink:href=\"#mb14b0db617\" y=\"202.12283\"/>\r\n",
       "     <use style=\"fill:#1f77b4;stroke:#1f77b4;\" x=\"236.891363\" xlink:href=\"#mb14b0db617\" y=\"141.570031\"/>\r\n",
       "     <use style=\"fill:#1f77b4;stroke:#1f77b4;\" x=\"212.814845\" xlink:href=\"#mb14b0db617\" y=\"171.121534\"/>\r\n",
       "     <use style=\"fill:#1f77b4;stroke:#1f77b4;\" x=\"178.443044\" xlink:href=\"#mb14b0db617\" y=\"106.479279\"/>\r\n",
       "     <use style=\"fill:#1f77b4;stroke:#1f77b4;\" x=\"227.169049\" xlink:href=\"#mb14b0db617\" y=\"178.389691\"/>\r\n",
       "     <use style=\"fill:#1f77b4;stroke:#1f77b4;\" x=\"260.443615\" xlink:href=\"#mb14b0db617\" y=\"127.818346\"/>\r\n",
       "     <use style=\"fill:#1f77b4;stroke:#1f77b4;\" x=\"198.347851\" xlink:href=\"#mb14b0db617\" y=\"107.694549\"/>\r\n",
       "     <use style=\"fill:#1f77b4;stroke:#1f77b4;\" x=\"238.413209\" xlink:href=\"#mb14b0db617\" y=\"171.04961\"/>\r\n",
       "     <use style=\"fill:#1f77b4;stroke:#1f77b4;\" x=\"279.508921\" xlink:href=\"#mb14b0db617\" y=\"191.705792\"/>\r\n",
       "     <use style=\"fill:#1f77b4;stroke:#1f77b4;\" x=\"180.116437\" xlink:href=\"#mb14b0db617\" y=\"196.777411\"/>\r\n",
       "     <use style=\"fill:#1f77b4;stroke:#1f77b4;\" x=\"228.638779\" xlink:href=\"#mb14b0db617\" y=\"185.958347\"/>\r\n",
       "     <use style=\"fill:#1f77b4;stroke:#1f77b4;\" x=\"316.06624\" xlink:href=\"#mb14b0db617\" y=\"81.089788\"/>\r\n",
       "     <use style=\"fill:#1f77b4;stroke:#1f77b4;\" x=\"268.636622\" xlink:href=\"#mb14b0db617\" y=\"155.348257\"/>\r\n",
       "     <use style=\"fill:#1f77b4;stroke:#1f77b4;\" x=\"218.40321\" xlink:href=\"#mb14b0db617\" y=\"166.643708\"/>\r\n",
       "     <use style=\"fill:#1f77b4;stroke:#1f77b4;\" x=\"225.355993\" xlink:href=\"#mb14b0db617\" y=\"140.085344\"/>\r\n",
       "     <use style=\"fill:#1f77b4;stroke:#1f77b4;\" x=\"227.15665\" xlink:href=\"#mb14b0db617\" y=\"117.749846\"/>\r\n",
       "     <use style=\"fill:#1f77b4;stroke:#1f77b4;\" x=\"296.925632\" xlink:href=\"#mb14b0db617\" y=\"112.025406\"/>\r\n",
       "     <use style=\"fill:#1f77b4;stroke:#1f77b4;\" x=\"43.325865\" xlink:href=\"#mb14b0db617\" y=\"155.186963\"/>\r\n",
       "     <use style=\"fill:#1f77b4;stroke:#1f77b4;\" x=\"275.600021\" xlink:href=\"#mb14b0db617\" y=\"178.034621\"/>\r\n",
       "     <use style=\"fill:#1f77b4;stroke:#1f77b4;\" x=\"216.800831\" xlink:href=\"#mb14b0db617\" y=\"187.549633\"/>\r\n",
       "     <use style=\"fill:#1f77b4;stroke:#1f77b4;\" x=\"312.518499\" xlink:href=\"#mb14b0db617\" y=\"38.121617\"/>\r\n",
       "     <use style=\"fill:#1f77b4;stroke:#1f77b4;\" x=\"276.814812\" xlink:href=\"#mb14b0db617\" y=\"158.924346\"/>\r\n",
       "     <use style=\"fill:#1f77b4;stroke:#1f77b4;\" x=\"255.091445\" xlink:href=\"#mb14b0db617\" y=\"187.207302\"/>\r\n",
       "     <use style=\"fill:#1f77b4;stroke:#1f77b4;\" x=\"253.628591\" xlink:href=\"#mb14b0db617\" y=\"172.758286\"/>\r\n",
       "     <use style=\"fill:#1f77b4;stroke:#1f77b4;\" x=\"323.042534\" xlink:href=\"#mb14b0db617\" y=\"113.633864\"/>\r\n",
       "     <use style=\"fill:#1f77b4;stroke:#1f77b4;\" x=\"286.310312\" xlink:href=\"#mb14b0db617\" y=\"151.113926\"/>\r\n",
       "     <use style=\"fill:#1f77b4;stroke:#1f77b4;\" x=\"238.057297\" xlink:href=\"#mb14b0db617\" y=\"180.50295\"/>\r\n",
       "     <use style=\"fill:#1f77b4;stroke:#1f77b4;\" x=\"269.088193\" xlink:href=\"#mb14b0db617\" y=\"155.182024\"/>\r\n",
       "     <use style=\"fill:#1f77b4;stroke:#1f77b4;\" x=\"235.640146\" xlink:href=\"#mb14b0db617\" y=\"207.554788\"/>\r\n",
       "     <use style=\"fill:#1f77b4;stroke:#1f77b4;\" x=\"268.573753\" xlink:href=\"#mb14b0db617\" y=\"152.462174\"/>\r\n",
       "     <use style=\"fill:#1f77b4;stroke:#1f77b4;\" x=\"237.126065\" xlink:href=\"#mb14b0db617\" y=\"168.751681\"/>\r\n",
       "     <use style=\"fill:#1f77b4;stroke:#1f77b4;\" x=\"298.530978\" xlink:href=\"#mb14b0db617\" y=\"135.805866\"/>\r\n",
       "     <use style=\"fill:#1f77b4;stroke:#1f77b4;\" x=\"221.058853\" xlink:href=\"#mb14b0db617\" y=\"87.803962\"/>\r\n",
       "     <use style=\"fill:#1f77b4;stroke:#1f77b4;\" x=\"241.31652\" xlink:href=\"#mb14b0db617\" y=\"176.973837\"/>\r\n",
       "     <use style=\"fill:#1f77b4;stroke:#1f77b4;\" x=\"247.966141\" xlink:href=\"#mb14b0db617\" y=\"129.016033\"/>\r\n",
       "     <use style=\"fill:#1f77b4;stroke:#1f77b4;\" x=\"228.889705\" xlink:href=\"#mb14b0db617\" y=\"101.924788\"/>\r\n",
       "     <use style=\"fill:#1f77b4;stroke:#1f77b4;\" x=\"229.656905\" xlink:href=\"#mb14b0db617\" y=\"132.927978\"/>\r\n",
       "     <use style=\"fill:#1f77b4;stroke:#1f77b4;\" x=\"234.411961\" xlink:href=\"#mb14b0db617\" y=\"166.253653\"/>\r\n",
       "     <use style=\"fill:#1f77b4;stroke:#1f77b4;\" x=\"283.354851\" xlink:href=\"#mb14b0db617\" y=\"151.559813\"/>\r\n",
       "     <use style=\"fill:#1f77b4;stroke:#1f77b4;\" x=\"322.393114\" xlink:href=\"#mb14b0db617\" y=\"91.231063\"/>\r\n",
       "     <use style=\"fill:#1f77b4;stroke:#1f77b4;\" x=\"237.250242\" xlink:href=\"#mb14b0db617\" y=\"184.256304\"/>\r\n",
       "     <use style=\"fill:#1f77b4;stroke:#1f77b4;\" x=\"228.858563\" xlink:href=\"#mb14b0db617\" y=\"176.372284\"/>\r\n",
       "     <use style=\"fill:#1f77b4;stroke:#1f77b4;\" x=\"128.369924\" xlink:href=\"#mb14b0db617\" y=\"26.082615\"/>\r\n",
       "     <use style=\"fill:#1f77b4;stroke:#1f77b4;\" x=\"269.247216\" xlink:href=\"#mb14b0db617\" y=\"158.862531\"/>\r\n",
       "     <use style=\"fill:#1f77b4;stroke:#1f77b4;\" x=\"239.785808\" xlink:href=\"#mb14b0db617\" y=\"169.805255\"/>\r\n",
       "     <use style=\"fill:#1f77b4;stroke:#1f77b4;\" x=\"214.389185\" xlink:href=\"#mb14b0db617\" y=\"166.967779\"/>\r\n",
       "     <use style=\"fill:#1f77b4;stroke:#1f77b4;\" x=\"285.302922\" xlink:href=\"#mb14b0db617\" y=\"97.100224\"/>\r\n",
       "     <use style=\"fill:#1f77b4;stroke:#1f77b4;\" x=\"258.910553\" xlink:href=\"#mb14b0db617\" y=\"135.032177\"/>\r\n",
       "    </g>\r\n",
       "   </g>\r\n",
       "   <g id=\"PathCollection_2\">\r\n",
       "    <defs>\r\n",
       "     <path d=\"M 0 1.5 \r\n",
       "C 0.397805 1.5 0.77937 1.341951 1.06066 1.06066 \r\n",
       "C 1.341951 0.77937 1.5 0.397805 1.5 0 \r\n",
       "C 1.5 -0.397805 1.341951 -0.77937 1.06066 -1.06066 \r\n",
       "C 0.77937 -1.341951 0.397805 -1.5 0 -1.5 \r\n",
       "C -0.397805 -1.5 -0.77937 -1.341951 -1.06066 -1.06066 \r\n",
       "C -1.341951 -0.77937 -1.5 -0.397805 -1.5 0 \r\n",
       "C -1.5 0.397805 -1.341951 0.77937 -1.06066 1.06066 \r\n",
       "C -0.77937 1.341951 -0.397805 1.5 0 1.5 \r\n",
       "z\r\n",
       "\" id=\"mc2c75ca984\" style=\"stroke:#ff7f0e;\"/>\r\n",
       "    </defs>\r\n",
       "    <g clip-path=\"url(#pd8f5cf3e8e)\">\r\n",
       "     <use style=\"fill:#ff7f0e;stroke:#ff7f0e;\" x=\"267.784911\" xlink:href=\"#mc2c75ca984\" y=\"140.844438\"/>\r\n",
       "     <use style=\"fill:#ff7f0e;stroke:#ff7f0e;\" x=\"203.759734\" xlink:href=\"#mc2c75ca984\" y=\"78.202173\"/>\r\n",
       "     <use style=\"fill:#ff7f0e;stroke:#ff7f0e;\" x=\"270.9179\" xlink:href=\"#mc2c75ca984\" y=\"69.653764\"/>\r\n",
       "     <use style=\"fill:#ff7f0e;stroke:#ff7f0e;\" x=\"297.949931\" xlink:href=\"#mc2c75ca984\" y=\"156.973459\"/>\r\n",
       "     <use style=\"fill:#ff7f0e;stroke:#ff7f0e;\" x=\"273.677262\" xlink:href=\"#mc2c75ca984\" y=\"193.426948\"/>\r\n",
       "     <use style=\"fill:#ff7f0e;stroke:#ff7f0e;\" x=\"272.656718\" xlink:href=\"#mc2c75ca984\" y=\"158.350122\"/>\r\n",
       "     <use style=\"fill:#ff7f0e;stroke:#ff7f0e;\" x=\"268.918999\" xlink:href=\"#mc2c75ca984\" y=\"137.504548\"/>\r\n",
       "     <use style=\"fill:#ff7f0e;stroke:#ff7f0e;\" x=\"239.070998\" xlink:href=\"#mc2c75ca984\" y=\"177.563024\"/>\r\n",
       "     <use style=\"fill:#ff7f0e;stroke:#ff7f0e;\" x=\"244.747578\" xlink:href=\"#mc2c75ca984\" y=\"84.29187\"/>\r\n",
       "     <use style=\"fill:#ff7f0e;stroke:#ff7f0e;\" x=\"250.795557\" xlink:href=\"#mc2c75ca984\" y=\"182.797082\"/>\r\n",
       "     <use style=\"fill:#ff7f0e;stroke:#ff7f0e;\" x=\"236.423706\" xlink:href=\"#mc2c75ca984\" y=\"126.26213\"/>\r\n",
       "     <use style=\"fill:#ff7f0e;stroke:#ff7f0e;\" x=\"240.71685\" xlink:href=\"#mc2c75ca984\" y=\"175.174377\"/>\r\n",
       "     <use style=\"fill:#ff7f0e;stroke:#ff7f0e;\" x=\"252.402429\" xlink:href=\"#mc2c75ca984\" y=\"175.12685\"/>\r\n",
       "     <use style=\"fill:#ff7f0e;stroke:#ff7f0e;\" x=\"275.447994\" xlink:href=\"#mc2c75ca984\" y=\"124.390705\"/>\r\n",
       "     <use style=\"fill:#ff7f0e;stroke:#ff7f0e;\" x=\"237.310659\" xlink:href=\"#mc2c75ca984\" y=\"161.092041\"/>\r\n",
       "     <use style=\"fill:#ff7f0e;stroke:#ff7f0e;\" x=\"298.055021\" xlink:href=\"#mc2c75ca984\" y=\"37.893522\"/>\r\n",
       "     <use style=\"fill:#ff7f0e;stroke:#ff7f0e;\" x=\"291.39379\" xlink:href=\"#mc2c75ca984\" y=\"77.359747\"/>\r\n",
       "     <use style=\"fill:#ff7f0e;stroke:#ff7f0e;\" x=\"219.380881\" xlink:href=\"#mc2c75ca984\" y=\"182.768116\"/>\r\n",
       "     <use style=\"fill:#ff7f0e;stroke:#ff7f0e;\" x=\"279.589762\" xlink:href=\"#mc2c75ca984\" y=\"140.13069\"/>\r\n",
       "     <use style=\"fill:#ff7f0e;stroke:#ff7f0e;\" x=\"266.641854\" xlink:href=\"#mc2c75ca984\" y=\"190.270475\"/>\r\n",
       "     <use style=\"fill:#ff7f0e;stroke:#ff7f0e;\" x=\"259.74033\" xlink:href=\"#mc2c75ca984\" y=\"132.310012\"/>\r\n",
       "     <use style=\"fill:#ff7f0e;stroke:#ff7f0e;\" x=\"222.351897\" xlink:href=\"#mc2c75ca984\" y=\"191.698932\"/>\r\n",
       "     <use style=\"fill:#ff7f0e;stroke:#ff7f0e;\" x=\"184.518735\" xlink:href=\"#mc2c75ca984\" y=\"119.56241\"/>\r\n",
       "     <use style=\"fill:#ff7f0e;stroke:#ff7f0e;\" x=\"239.519396\" xlink:href=\"#mc2c75ca984\" y=\"162.779793\"/>\r\n",
       "     <use style=\"fill:#ff7f0e;stroke:#ff7f0e;\" x=\"291.022906\" xlink:href=\"#mc2c75ca984\" y=\"93.847742\"/>\r\n",
       "     <use style=\"fill:#ff7f0e;stroke:#ff7f0e;\" x=\"248.678053\" xlink:href=\"#mc2c75ca984\" y=\"136.232054\"/>\r\n",
       "     <use style=\"fill:#ff7f0e;stroke:#ff7f0e;\" x=\"264.491801\" xlink:href=\"#mc2c75ca984\" y=\"163.113647\"/>\r\n",
       "     <use style=\"fill:#ff7f0e;stroke:#ff7f0e;\" x=\"256.568601\" xlink:href=\"#mc2c75ca984\" y=\"165.686511\"/>\r\n",
       "     <use style=\"fill:#ff7f0e;stroke:#ff7f0e;\" x=\"258.793579\" xlink:href=\"#mc2c75ca984\" y=\"160.482476\"/>\r\n",
       "     <use style=\"fill:#ff7f0e;stroke:#ff7f0e;\" x=\"253.77868\" xlink:href=\"#mc2c75ca984\" y=\"128.178399\"/>\r\n",
       "     <use style=\"fill:#ff7f0e;stroke:#ff7f0e;\" x=\"239.563418\" xlink:href=\"#mc2c75ca984\" y=\"129.853608\"/>\r\n",
       "     <use style=\"fill:#ff7f0e;stroke:#ff7f0e;\" x=\"277.063183\" xlink:href=\"#mc2c75ca984\" y=\"123.461959\"/>\r\n",
       "     <use style=\"fill:#ff7f0e;stroke:#ff7f0e;\" x=\"230.632501\" xlink:href=\"#mc2c75ca984\" y=\"170.499977\"/>\r\n",
       "     <use style=\"fill:#ff7f0e;stroke:#ff7f0e;\" x=\"289.299283\" xlink:href=\"#mc2c75ca984\" y=\"156.366357\"/>\r\n",
       "     <use style=\"fill:#ff7f0e;stroke:#ff7f0e;\" x=\"278.56891\" xlink:href=\"#mc2c75ca984\" y=\"181.10979\"/>\r\n",
       "     <use style=\"fill:#ff7f0e;stroke:#ff7f0e;\" x=\"245.276457\" xlink:href=\"#mc2c75ca984\" y=\"162.286521\"/>\r\n",
       "     <use style=\"fill:#ff7f0e;stroke:#ff7f0e;\" x=\"181.429202\" xlink:href=\"#mc2c75ca984\" y=\"170.710309\"/>\r\n",
       "     <use style=\"fill:#ff7f0e;stroke:#ff7f0e;\" x=\"180.540055\" xlink:href=\"#mc2c75ca984\" y=\"178.535312\"/>\r\n",
       "     <use style=\"fill:#ff7f0e;stroke:#ff7f0e;\" x=\"239.342914\" xlink:href=\"#mc2c75ca984\" y=\"175.985642\"/>\r\n",
       "     <use style=\"fill:#ff7f0e;stroke:#ff7f0e;\" x=\"271.305728\" xlink:href=\"#mc2c75ca984\" y=\"162.950889\"/>\r\n",
       "     <use style=\"fill:#ff7f0e;stroke:#ff7f0e;\" x=\"305.85106\" xlink:href=\"#mc2c75ca984\" y=\"110.258822\"/>\r\n",
       "     <use style=\"fill:#ff7f0e;stroke:#ff7f0e;\" x=\"255.87696\" xlink:href=\"#mc2c75ca984\" y=\"177.892167\"/>\r\n",
       "     <use style=\"fill:#ff7f0e;stroke:#ff7f0e;\" x=\"255.27115\" xlink:href=\"#mc2c75ca984\" y=\"149.7872\"/>\r\n",
       "     <use style=\"fill:#ff7f0e;stroke:#ff7f0e;\" x=\"248.313703\" xlink:href=\"#mc2c75ca984\" y=\"136.270551\"/>\r\n",
       "     <use style=\"fill:#ff7f0e;stroke:#ff7f0e;\" x=\"262.095727\" xlink:href=\"#mc2c75ca984\" y=\"128.050176\"/>\r\n",
       "     <use style=\"fill:#ff7f0e;stroke:#ff7f0e;\" x=\"251.179148\" xlink:href=\"#mc2c75ca984\" y=\"136.255626\"/>\r\n",
       "     <use style=\"fill:#ff7f0e;stroke:#ff7f0e;\" x=\"225.700073\" xlink:href=\"#mc2c75ca984\" y=\"142.635167\"/>\r\n",
       "     <use style=\"fill:#ff7f0e;stroke:#ff7f0e;\" x=\"221.300724\" xlink:href=\"#mc2c75ca984\" y=\"199.744367\"/>\r\n",
       "     <use style=\"fill:#ff7f0e;stroke:#ff7f0e;\" x=\"222.750425\" xlink:href=\"#mc2c75ca984\" y=\"118.995647\"/>\r\n",
       "     <use style=\"fill:#ff7f0e;stroke:#ff7f0e;\" x=\"236.71862\" xlink:href=\"#mc2c75ca984\" y=\"208.341648\"/>\r\n",
       "     <use style=\"fill:#ff7f0e;stroke:#ff7f0e;\" x=\"221.149469\" xlink:href=\"#mc2c75ca984\" y=\"208.160707\"/>\r\n",
       "     <use style=\"fill:#ff7f0e;stroke:#ff7f0e;\" x=\"287.651561\" xlink:href=\"#mc2c75ca984\" y=\"131.311524\"/>\r\n",
       "     <use style=\"fill:#ff7f0e;stroke:#ff7f0e;\" x=\"250.062569\" xlink:href=\"#mc2c75ca984\" y=\"139.819173\"/>\r\n",
       "     <use style=\"fill:#ff7f0e;stroke:#ff7f0e;\" x=\"255.203771\" xlink:href=\"#mc2c75ca984\" y=\"142.278901\"/>\r\n",
       "     <use style=\"fill:#ff7f0e;stroke:#ff7f0e;\" x=\"274.800529\" xlink:href=\"#mc2c75ca984\" y=\"143.316022\"/>\r\n",
       "     <use style=\"fill:#ff7f0e;stroke:#ff7f0e;\" x=\"259.683721\" xlink:href=\"#mc2c75ca984\" y=\"161.291131\"/>\r\n",
       "     <use style=\"fill:#ff7f0e;stroke:#ff7f0e;\" x=\"295.508686\" xlink:href=\"#mc2c75ca984\" y=\"28.316723\"/>\r\n",
       "     <use style=\"fill:#ff7f0e;stroke:#ff7f0e;\" x=\"289.765825\" xlink:href=\"#mc2c75ca984\" y=\"69.132936\"/>\r\n",
       "     <use style=\"fill:#ff7f0e;stroke:#ff7f0e;\" x=\"205.689078\" xlink:href=\"#mc2c75ca984\" y=\"201.1512\"/>\r\n",
       "     <use style=\"fill:#ff7f0e;stroke:#ff7f0e;\" x=\"279.652099\" xlink:href=\"#mc2c75ca984\" y=\"115.475027\"/>\r\n",
       "     <use style=\"fill:#ff7f0e;stroke:#ff7f0e;\" x=\"277.922388\" xlink:href=\"#mc2c75ca984\" y=\"113.554649\"/>\r\n",
       "     <use style=\"fill:#ff7f0e;stroke:#ff7f0e;\" x=\"275.940053\" xlink:href=\"#mc2c75ca984\" y=\"125.46\"/>\r\n",
       "     <use style=\"fill:#ff7f0e;stroke:#ff7f0e;\" x=\"212.020961\" xlink:href=\"#mc2c75ca984\" y=\"143.812978\"/>\r\n",
       "     <use style=\"fill:#ff7f0e;stroke:#ff7f0e;\" x=\"175.485919\" xlink:href=\"#mc2c75ca984\" y=\"171.666886\"/>\r\n",
       "     <use style=\"fill:#ff7f0e;stroke:#ff7f0e;\" x=\"263.315252\" xlink:href=\"#mc2c75ca984\" y=\"91.530039\"/>\r\n",
       "     <use style=\"fill:#ff7f0e;stroke:#ff7f0e;\" x=\"181.898676\" xlink:href=\"#mc2c75ca984\" y=\"141.267509\"/>\r\n",
       "     <use style=\"fill:#ff7f0e;stroke:#ff7f0e;\" x=\"206.182544\" xlink:href=\"#mc2c75ca984\" y=\"190.96659\"/>\r\n",
       "     <use style=\"fill:#ff7f0e;stroke:#ff7f0e;\" x=\"221.442033\" xlink:href=\"#mc2c75ca984\" y=\"164.933189\"/>\r\n",
       "     <use style=\"fill:#ff7f0e;stroke:#ff7f0e;\" x=\"226.925892\" xlink:href=\"#mc2c75ca984\" y=\"183.430314\"/>\r\n",
       "     <use style=\"fill:#ff7f0e;stroke:#ff7f0e;\" x=\"241.711756\" xlink:href=\"#mc2c75ca984\" y=\"196.195114\"/>\r\n",
       "     <use style=\"fill:#ff7f0e;stroke:#ff7f0e;\" x=\"240.434096\" xlink:href=\"#mc2c75ca984\" y=\"177.11881\"/>\r\n",
       "     <use style=\"fill:#ff7f0e;stroke:#ff7f0e;\" x=\"246.114706\" xlink:href=\"#mc2c75ca984\" y=\"181.572971\"/>\r\n",
       "     <use style=\"fill:#ff7f0e;stroke:#ff7f0e;\" x=\"241.152266\" xlink:href=\"#mc2c75ca984\" y=\"148.772881\"/>\r\n",
       "     <use style=\"fill:#ff7f0e;stroke:#ff7f0e;\" x=\"237.739712\" xlink:href=\"#mc2c75ca984\" y=\"198.90957\"/>\r\n",
       "     <use style=\"fill:#ff7f0e;stroke:#ff7f0e;\" x=\"288.023903\" xlink:href=\"#mc2c75ca984\" y=\"177.837428\"/>\r\n",
       "     <use style=\"fill:#ff7f0e;stroke:#ff7f0e;\" x=\"280.552342\" xlink:href=\"#mc2c75ca984\" y=\"106.571833\"/>\r\n",
       "     <use style=\"fill:#ff7f0e;stroke:#ff7f0e;\" x=\"299.886667\" xlink:href=\"#mc2c75ca984\" y=\"18.537199\"/>\r\n",
       "     <use style=\"fill:#ff7f0e;stroke:#ff7f0e;\" x=\"322.805053\" xlink:href=\"#mc2c75ca984\" y=\"107.27153\"/>\r\n",
       "     <use style=\"fill:#ff7f0e;stroke:#ff7f0e;\" x=\"262.065818\" xlink:href=\"#mc2c75ca984\" y=\"158.490649\"/>\r\n",
       "     <use style=\"fill:#ff7f0e;stroke:#ff7f0e;\" x=\"176.815936\" xlink:href=\"#mc2c75ca984\" y=\"46.576526\"/>\r\n",
       "     <use style=\"fill:#ff7f0e;stroke:#ff7f0e;\" x=\"254.391435\" xlink:href=\"#mc2c75ca984\" y=\"158.81774\"/>\r\n",
       "     <use style=\"fill:#ff7f0e;stroke:#ff7f0e;\" x=\"243.585263\" xlink:href=\"#mc2c75ca984\" y=\"159.532979\"/>\r\n",
       "     <use style=\"fill:#ff7f0e;stroke:#ff7f0e;\" x=\"244.260492\" xlink:href=\"#mc2c75ca984\" y=\"165.056198\"/>\r\n",
       "     <use style=\"fill:#ff7f0e;stroke:#ff7f0e;\" x=\"244.104829\" xlink:href=\"#mc2c75ca984\" y=\"148.800526\"/>\r\n",
       "     <use style=\"fill:#ff7f0e;stroke:#ff7f0e;\" x=\"255.257877\" xlink:href=\"#mc2c75ca984\" y=\"148.740292\"/>\r\n",
       "     <use style=\"fill:#ff7f0e;stroke:#ff7f0e;\" x=\"142.724351\" xlink:href=\"#mc2c75ca984\" y=\"154.026704\"/>\r\n",
       "     <use style=\"fill:#ff7f0e;stroke:#ff7f0e;\" x=\"184.072532\" xlink:href=\"#mc2c75ca984\" y=\"86.379666\"/>\r\n",
       "     <use style=\"fill:#ff7f0e;stroke:#ff7f0e;\" x=\"284.283475\" xlink:href=\"#mc2c75ca984\" y=\"114.433542\"/>\r\n",
       "     <use style=\"fill:#ff7f0e;stroke:#ff7f0e;\" x=\"265.154083\" xlink:href=\"#mc2c75ca984\" y=\"119.948651\"/>\r\n",
       "     <use style=\"fill:#ff7f0e;stroke:#ff7f0e;\" x=\"252.111923\" xlink:href=\"#mc2c75ca984\" y=\"185.195665\"/>\r\n",
       "     <use style=\"fill:#ff7f0e;stroke:#ff7f0e;\" x=\"258.038109\" xlink:href=\"#mc2c75ca984\" y=\"135.872415\"/>\r\n",
       "     <use style=\"fill:#ff7f0e;stroke:#ff7f0e;\" x=\"265.571166\" xlink:href=\"#mc2c75ca984\" y=\"157.526535\"/>\r\n",
       "     <use style=\"fill:#ff7f0e;stroke:#ff7f0e;\" x=\"237.111643\" xlink:href=\"#mc2c75ca984\" y=\"133.252683\"/>\r\n",
       "     <use style=\"fill:#ff7f0e;stroke:#ff7f0e;\" x=\"219.38179\" xlink:href=\"#mc2c75ca984\" y=\"167.348997\"/>\r\n",
       "     <use style=\"fill:#ff7f0e;stroke:#ff7f0e;\" x=\"250.729481\" xlink:href=\"#mc2c75ca984\" y=\"172.301906\"/>\r\n",
       "     <use style=\"fill:#ff7f0e;stroke:#ff7f0e;\" x=\"255.057026\" xlink:href=\"#mc2c75ca984\" y=\"146.383961\"/>\r\n",
       "     <use style=\"fill:#ff7f0e;stroke:#ff7f0e;\" x=\"261.012537\" xlink:href=\"#mc2c75ca984\" y=\"187.816158\"/>\r\n",
       "     <use style=\"fill:#ff7f0e;stroke:#ff7f0e;\" x=\"290.494199\" xlink:href=\"#mc2c75ca984\" y=\"138.474675\"/>\r\n",
       "     <use style=\"fill:#ff7f0e;stroke:#ff7f0e;\" x=\"300.224384\" xlink:href=\"#mc2c75ca984\" y=\"61.733973\"/>\r\n",
       "     <use style=\"fill:#ff7f0e;stroke:#ff7f0e;\" x=\"246.186269\" xlink:href=\"#mc2c75ca984\" y=\"142.479715\"/>\r\n",
       "     <use style=\"fill:#ff7f0e;stroke:#ff7f0e;\" x=\"244.892231\" xlink:href=\"#mc2c75ca984\" y=\"164.513494\"/>\r\n",
       "     <use style=\"fill:#ff7f0e;stroke:#ff7f0e;\" x=\"236.200562\" xlink:href=\"#mc2c75ca984\" y=\"147.474267\"/>\r\n",
       "     <use style=\"fill:#ff7f0e;stroke:#ff7f0e;\" x=\"248.875027\" xlink:href=\"#mc2c75ca984\" y=\"135.107168\"/>\r\n",
       "     <use style=\"fill:#ff7f0e;stroke:#ff7f0e;\" x=\"223.799128\" xlink:href=\"#mc2c75ca984\" y=\"146.021614\"/>\r\n",
       "     <use style=\"fill:#ff7f0e;stroke:#ff7f0e;\" x=\"247.973687\" xlink:href=\"#mc2c75ca984\" y=\"156.159127\"/>\r\n",
       "     <use style=\"fill:#ff7f0e;stroke:#ff7f0e;\" x=\"241.544072\" xlink:href=\"#mc2c75ca984\" y=\"191.042613\"/>\r\n",
       "     <use style=\"fill:#ff7f0e;stroke:#ff7f0e;\" x=\"212.358095\" xlink:href=\"#mc2c75ca984\" y=\"182.712208\"/>\r\n",
       "     <use style=\"fill:#ff7f0e;stroke:#ff7f0e;\" x=\"218.460454\" xlink:href=\"#mc2c75ca984\" y=\"137.999585\"/>\r\n",
       "     <use style=\"fill:#ff7f0e;stroke:#ff7f0e;\" x=\"269.539626\" xlink:href=\"#mc2c75ca984\" y=\"136.306933\"/>\r\n",
       "     <use style=\"fill:#ff7f0e;stroke:#ff7f0e;\" x=\"228.887613\" xlink:href=\"#mc2c75ca984\" y=\"195.070054\"/>\r\n",
       "    </g>\r\n",
       "   </g>\r\n",
       "   <g id=\"patch_3\">\r\n",
       "    <path d=\"M 28.1 224.64 \r\n",
       "L 28.1 7.2 \r\n",
       "\" style=\"fill:none;stroke:#cccccc;stroke-linecap:square;stroke-linejoin:miter;stroke-width:0.8;\"/>\r\n",
       "   </g>\r\n",
       "   <g id=\"patch_4\">\r\n",
       "    <path d=\"M 362.9 224.64 \r\n",
       "L 362.9 7.2 \r\n",
       "\" style=\"fill:none;stroke:#cccccc;stroke-linecap:square;stroke-linejoin:miter;stroke-width:0.8;\"/>\r\n",
       "   </g>\r\n",
       "   <g id=\"patch_5\">\r\n",
       "    <path d=\"M 28.1 224.64 \r\n",
       "L 362.9 224.64 \r\n",
       "\" style=\"fill:none;stroke:#cccccc;stroke-linecap:square;stroke-linejoin:miter;stroke-width:0.8;\"/>\r\n",
       "   </g>\r\n",
       "   <g id=\"patch_6\">\r\n",
       "    <path d=\"M 28.1 7.2 \r\n",
       "L 362.9 7.2 \r\n",
       "\" style=\"fill:none;stroke:#cccccc;stroke-linecap:square;stroke-linejoin:miter;stroke-width:0.8;\"/>\r\n",
       "   </g>\r\n",
       "  </g>\r\n",
       " </g>\r\n",
       " <defs>\r\n",
       "  <clipPath id=\"pd8f5cf3e8e\">\r\n",
       "   <rect height=\"217.44\" width=\"334.8\" x=\"28.1\" y=\"7.2\"/>\r\n",
       "  </clipPath>\r\n",
       " </defs>\r\n",
       "</svg>\r\n"
      ],
      "text/plain": [
       "<Figure size 432x288 with 1 Axes>"
      ]
     },
     "metadata": {
      "needs_background": "light"
     },
     "output_type": "display_data"
    }
   ],
   "source": [
    "plt.scatter(X_train[y_train==1, 0], X_train[y_train==1, 1], marker='v')\n",
    "plt.scatter(X_train[y_train==0, 0], X_train[y_train==0, 1], marker='.')"
   ]
  },
  {
   "cell_type": "code",
   "execution_count": 80,
   "metadata": {},
   "outputs": [
    {
     "data": {
      "text/plain": [
       "228"
      ]
     },
     "execution_count": 80,
     "metadata": {},
     "output_type": "execute_result"
    }
   ],
   "source": [
    "len(y_train)"
   ]
  },
  {
   "cell_type": "code",
   "execution_count": 333,
   "metadata": {},
   "outputs": [],
   "source": [
    "# knn训练股票模型\n",
    "from sklearn.neighbors import KNeighborsClassifier\n",
    "from sklearn.model_selection import GridSearchCV\n",
    "from sklearn.metrics import accuracy_score, make_scorer"
   ]
  },
  {
   "cell_type": "code",
   "execution_count": 334,
   "metadata": {},
   "outputs": [
    {
     "data": {
      "text/plain": [
       "GridSearchCV(cv=5, error_score=nan,\n",
       "             estimator=KNeighborsClassifier(algorithm='auto', leaf_size=30,\n",
       "                                            metric='minkowski',\n",
       "                                            metric_params=None, n_jobs=None,\n",
       "                                            n_neighbors=5, p=2,\n",
       "                                            weights='uniform'),\n",
       "             iid='deprecated', n_jobs=-1,\n",
       "             param_grid={'metric': ['minkowski'],\n",
       "                         'n_neighbors': [1, 2, 3, 4, 5, 6, 7, 8, 9, 10, 11, 12,\n",
       "                                         13, 14, 15],\n",
       "                         'p': [1, 2, 3, 4, 5, 6, 7, 8, 9, 10, 11, 12, 13, 14,\n",
       "                               15],\n",
       "                         'weights': ['distance', 'uniform']},\n",
       "             pre_dispatch='2*n_jobs', refit=True, return_train_score=False,\n",
       "             scoring=make_scorer(accuracy_score), verbose=0)"
      ]
     },
     "execution_count": 334,
     "metadata": {},
     "output_type": "execute_result"
    }
   ],
   "source": [
    "standard_scale = StandardScaler()\n",
    "standard_scale.fit_transform(X_train)\n",
    "ftwo_scorer = make_scorer(accuracy_score)\n",
    "knn_clf = KNeighborsClassifier()\n",
    "params = {'n_neighbors':[i+1 for i in range(15)], 'weights':['distance', 'uniform'], 'metric':['minkowski'], 'p':[i+1 for i in range(15)]}\n",
    "grid_cv = GridSearchCV(knn_clf, param_grid=params, cv=5, n_jobs=-1, scoring=ftwo_scorer)\n",
    "grid_cv.fit(X_train, y_train)\n"
   ]
  },
  {
   "cell_type": "code",
   "execution_count": 335,
   "metadata": {},
   "outputs": [
    {
     "data": {
      "text/plain": [
       "0.4843373493975904"
      ]
     },
     "execution_count": 335,
     "metadata": {},
     "output_type": "execute_result"
    }
   ],
   "source": [
    "accuracy_score(y_test, grid_cv.predict(standard_scale.transform(X_test)))"
   ]
  },
  {
   "cell_type": "code",
   "execution_count": 336,
   "metadata": {},
   "outputs": [
    {
     "data": {
      "text/plain": [
       "0.5304557640750671"
      ]
     },
     "execution_count": 336,
     "metadata": {},
     "output_type": "execute_result"
    }
   ],
   "source": [
    "grid_cv.best_score_"
   ]
  },
  {
   "cell_type": "code",
   "execution_count": 337,
   "metadata": {},
   "outputs": [
    {
     "data": {
      "text/plain": [
       "KNeighborsClassifier(algorithm='auto', leaf_size=30, metric='minkowski',\n",
       "                     metric_params=None, n_jobs=None, n_neighbors=5, p=7,\n",
       "                     weights='uniform')"
      ]
     },
     "execution_count": 337,
     "metadata": {},
     "output_type": "execute_result"
    }
   ],
   "source": [
    "grid_cv.best_estimator_"
   ]
  },
  {
   "cell_type": "code",
   "execution_count": 253,
   "metadata": {},
   "outputs": [],
   "source": [
    "bag_clf = BaggingClassifier(grid_cv.best_estimator_, n_estimators=200, max_samples=0.8, bootstrap=True, n_jobs=-1, oob_score=True)"
   ]
  },
  {
   "cell_type": "code",
   "execution_count": 254,
   "metadata": {},
   "outputs": [
    {
     "data": {
      "text/plain": [
       "BaggingClassifier(base_estimator=KNeighborsClassifier(algorithm='auto',\n",
       "                                                      leaf_size=30,\n",
       "                                                      metric='minkowski',\n",
       "                                                      metric_params=None,\n",
       "                                                      n_jobs=None,\n",
       "                                                      n_neighbors=12, p=10,\n",
       "                                                      weights='distance'),\n",
       "                  bootstrap=True, bootstrap_features=False, max_features=1.0,\n",
       "                  max_samples=0.8, n_estimators=200, n_jobs=-1, oob_score=True,\n",
       "                  random_state=None, verbose=0, warm_start=False)"
      ]
     },
     "execution_count": 254,
     "metadata": {},
     "output_type": "execute_result"
    }
   ],
   "source": [
    "bag_clf.fit(X_train, y_train)"
   ]
  },
  {
   "cell_type": "code",
   "execution_count": 255,
   "metadata": {},
   "outputs": [
    {
     "data": {
      "text/plain": [
       "0.5318275154004107"
      ]
     },
     "execution_count": 255,
     "metadata": {},
     "output_type": "execute_result"
    }
   ],
   "source": [
    "accuracy_score(y_test, bag_clf.predict(standard_scale.transform(X_test)))"
   ]
  },
  {
   "cell_type": "code",
   "execution_count": 256,
   "metadata": {},
   "outputs": [
    {
     "data": {
      "text/plain": [
       "0.5181714285714286"
      ]
     },
     "execution_count": 256,
     "metadata": {},
     "output_type": "execute_result"
    }
   ],
   "source": [
    "bag_clf.oob_score_"
   ]
  },
  {
   "cell_type": "code",
   "execution_count": 259,
   "metadata": {},
   "outputs": [],
   "source": [
    "from data_service import DataServiceTushare\n",
    "from logger import Logger\n",
    "import tushare as ts\n",
    "from time import time, sleep\n",
    "from sklearn.preprocessing import StandardScaler\n",
    "from sklearn.preprocessing import PolynomialFeatures\n",
    "from sklearn.model_selection import train_test_split\n",
    "from sklearn.linear_model import LogisticRegressionCV\n",
    "from sklearn.metrics import recall_score, confusion_matrix, precision_score\n",
    "from sklearn.pipeline import Pipeline\n",
    "from sklearn.model_selection import GridSearchCV\n",
    "from sklearn.ensemble import BaggingClassifier\n",
    "import numpy as np\n",
    "import pandas as pd\n",
    "from pymongo import MongoClient, ASCENDING, DESCENDING\n",
    "        \n",
    "ds_tushare = DataServiceTushare()    \n",
    "# lst_index_price = ds_tushare.getStockPriceLst('000001_SH', '20000301')\n",
    "lst_index_price = ds_tushare.getStockPriceLst('399001_SZ', '20000301')\n",
    "# data_index = np.zeros(shape=(len(lst_index_price), 4))    \n",
    "count_X = lst_index_price.count()\n",
    "data_index = np.zeros(shape=(count_X, 4))    \n",
    "lst_index_price.sort(\"trade_date\", DESCENDING)\n",
    "last_index_val = 0.0\n",
    "idx = 0\n",
    "for item in lst_index_price:\n",
    "    ma5 = item['close'] - item['ma_5']\n",
    "    ma20 = item['close'] - item['ma_20']        \n",
    "    vol_rate = item['vol_rate']\n",
    "    result = 1 if item['close'] <= last_index_val else 0\n",
    "    data_index[idx] = [ma5, ma20, vol_rate, result]        \n",
    "    idx += 1\n",
    "    last_index_val = item['close']\n",
    "X_train, X_test, y_train, y_test = train_test_split(data_index[:, :-1], data_index[:, -1], test_size=0.3)    \n",
    "pipe = Pipeline([('standard_scaler', StandardScaler()), \n",
    "                ('polynomial_features', PolynomialFeatures(degree=2)), \n",
    "                ('logistic_reg', LogisticRegressionCV(cv=10, class_weight={0:0.55, 1:0.45}, n_jobs=-1))])        \n",
    "pipe.fit(X_train, y_train)\n",
    "y_predict_sz = pipe.predict(X_test)\n",
    "\n",
    "\n"
   ]
  },
  {
   "cell_type": "code",
   "execution_count": 261,
   "metadata": {},
   "outputs": [],
   "source": [
    "ds_tushare = DataServiceTushare()    \n",
    "lst_index_price = ds_tushare.getStockPriceLst('000001_SH', '20000301')\n",
    "# lst_index_price = ds_tushare.getStockPriceLst('399001_SZ', '20000301')\n",
    "# data_index = np.zeros(shape=(len(lst_index_price), 4))    \n",
    "count_X = lst_index_price.count()\n",
    "data_index = np.zeros(shape=(count_X, 4))    \n",
    "lst_index_price.sort(\"trade_date\", DESCENDING)\n",
    "last_index_val = 0.0\n",
    "idx = 0\n",
    "for item in lst_index_price:\n",
    "    ma5 = item['close'] - item['ma_5']\n",
    "    ma20 = item['close'] - item['ma_20']        \n",
    "    vol_rate = item['vol_rate']\n",
    "    result = 1 if item['close'] <= last_index_val else 0\n",
    "    data_index[idx] = [ma5, ma20, vol_rate, result]        \n",
    "    idx += 1\n",
    "    last_index_val = item['close']\n",
    "X_train, X_test, y_train, y_test = train_test_split(data_index[:, :-1], data_index[:, -1], test_size=0.3)    \n",
    "pipe = Pipeline([('standard_scaler', StandardScaler()), \n",
    "                ('polynomial_features', PolynomialFeatures(degree=2)), \n",
    "                ('logistic_reg', LogisticRegressionCV(cv=10, class_weight={0:0.55, 1:0.45}, n_jobs=-1))])        \n",
    "pipe.fit(X_train, y_train)\n",
    "y_predict_sh = pipe.predict(X_test)"
   ]
  },
  {
   "cell_type": "code",
   "execution_count": 271,
   "metadata": {},
   "outputs": [],
   "source": [
    "y_predict = np.array((y_predict_sh == y_predict_sz) & (y_predict_sz == 1), dtype=int)"
   ]
  },
  {
   "cell_type": "code",
   "execution_count": 272,
   "metadata": {},
   "outputs": [
    {
     "data": {
      "text/plain": [
       "0.5757575757575758"
      ]
     },
     "execution_count": 272,
     "metadata": {},
     "output_type": "execute_result"
    }
   ],
   "source": [
    "precision_score(y_test, y_predict)"
   ]
  },
  {
   "cell_type": "code",
   "execution_count": 276,
   "metadata": {},
   "outputs": [
    {
     "data": {
      "text/plain": [
       "0.5312"
      ]
     },
     "execution_count": 276,
     "metadata": {},
     "output_type": "execute_result"
    }
   ],
   "source": [
    "len(X_train[y_train==1]) / len(X_train[y_train==1])"
   ]
  },
  {
   "cell_type": "code",
   "execution_count": 277,
   "metadata": {},
   "outputs": [],
   "source": [
    "X_up = X_train[y_train==1]"
   ]
  },
  {
   "cell_type": "code",
   "execution_count": 297,
   "metadata": {},
   "outputs": [
    {
     "data": {
      "text/plain": [
       "0.8347676419965576"
      ]
     },
     "execution_count": 297,
     "metadata": {},
     "output_type": "execute_result"
    }
   ],
   "source": [
    "len(X_up[X_up[:,7]>0.8]) / len(X_up)"
   ]
  },
  {
   "cell_type": "code",
   "execution_count": 313,
   "metadata": {},
   "outputs": [],
   "source": [
    "X_ma5 = X_train[X_train[:,0]>0.0]\n",
    "y_ma5 = y_train[X_train[:,0]>0.0]\n",
    "X_ma10 = X_train[X_train[:,1]>0.0]\n",
    "y_ma10 = y_train[X_train[:,1]>0.0]\n",
    "X_ma20 = X_train[X_train[:,2]>0.0]\n",
    "y_ma20 = y_train[X_train[:,2]>0.0]\n",
    "X_ma30 = X_train[X_train[:,3]>0.0]\n",
    "y_ma30 = y_train[X_train[:,3]>0.0]\n",
    "X_ma60 = X_train[X_train[:,4]>0.0]\n",
    "y_ma60 = y_train[X_train[:,4]>0.0]\n",
    "X_rate = X_train[X_train[:,7]>1.0]\n",
    "y_rate = y_train[X_train[:,7]>1.0]\n"
   ]
  },
  {
   "cell_type": "code",
   "execution_count": 305,
   "metadata": {},
   "outputs": [
    {
     "data": {
      "text/plain": [
       "0.5397653194263363"
      ]
     },
     "execution_count": 305,
     "metadata": {},
     "output_type": "execute_result"
    }
   ],
   "source": [
    "len(X_ma5[y_ma5==1]) / len(X_ma5)"
   ]
  },
  {
   "cell_type": "code",
   "execution_count": 306,
   "metadata": {},
   "outputs": [
    {
     "data": {
      "text/plain": [
       "0.5422260718925942"
      ]
     },
     "execution_count": 306,
     "metadata": {},
     "output_type": "execute_result"
    }
   ],
   "source": [
    "len(X_ma10[y_ma10==1]) / len(X_ma10)"
   ]
  },
  {
   "cell_type": "code",
   "execution_count": 307,
   "metadata": {},
   "outputs": [
    {
     "data": {
      "text/plain": [
       "0.5651052857756769"
      ]
     },
     "execution_count": 307,
     "metadata": {},
     "output_type": "execute_result"
    }
   ],
   "source": [
    "len(X_ma20[y_ma20==1]) / len(X_ma20)"
   ]
  },
  {
   "cell_type": "code",
   "execution_count": 308,
   "metadata": {},
   "outputs": [
    {
     "data": {
      "text/plain": [
       "0.5618466898954704"
      ]
     },
     "execution_count": 308,
     "metadata": {},
     "output_type": "execute_result"
    }
   ],
   "source": [
    "len(X_ma30[y_ma30==1]) / len(X_ma30)"
   ]
  },
  {
   "cell_type": "code",
   "execution_count": 309,
   "metadata": {},
   "outputs": [
    {
     "data": {
      "text/plain": [
       "0.5677852348993289"
      ]
     },
     "execution_count": 309,
     "metadata": {},
     "output_type": "execute_result"
    }
   ],
   "source": [
    "len(X_ma60[y_ma60==1]) / len(X_ma60)"
   ]
  },
  {
   "cell_type": "code",
   "execution_count": 315,
   "metadata": {},
   "outputs": [
    {
     "data": {
      "text/plain": [
       "0.543247344461305"
      ]
     },
     "execution_count": 315,
     "metadata": {},
     "output_type": "execute_result"
    }
   ],
   "source": [
    "len(X_rate[y_rate==1]) / len(X_rate)"
   ]
  },
  {
   "cell_type": "code",
   "execution_count": 320,
   "metadata": {},
   "outputs": [],
   "source": [
    "X_ma20_rate = X_train[(X_train[:,2]>0.0) & (X_train[:,7]>1.0)]"
   ]
  },
  {
   "cell_type": "code",
   "execution_count": 321,
   "metadata": {},
   "outputs": [],
   "source": [
    "y_ma20_rate = y_train[(X_train[:,2]>0.0) & (X_train[:,7]>1.0)]"
   ]
  },
  {
   "cell_type": "code",
   "execution_count": 324,
   "metadata": {},
   "outputs": [
    {
     "data": {
      "text/plain": [
       "0.5833998403830806"
      ]
     },
     "execution_count": 324,
     "metadata": {},
     "output_type": "execute_result"
    }
   ],
   "source": [
    "len(X_ma20_rate[y_ma20_rate==1]) / len(X_ma20_rate)"
   ]
  },
  {
   "cell_type": "code",
   "execution_count": 347,
   "metadata": {},
   "outputs": [
    {
     "data": {
      "text/plain": [
       "Pipeline(memory=None,\n",
       "         steps=[('standard_scaler',\n",
       "                 StandardScaler(copy=True, with_mean=True, with_std=True)),\n",
       "                ('svc',\n",
       "                 SVC(C=0.001, break_ties=False, cache_size=200,\n",
       "                     class_weight=None, coef0=0.0,\n",
       "                     decision_function_shape='ovr', degree=3, gamma=5,\n",
       "                     kernel='rbf', max_iter=-1, probability=False,\n",
       "                     random_state=None, shrinking=True, tol=0.001,\n",
       "                     verbose=False))],\n",
       "         verbose=False)"
      ]
     },
     "execution_count": 347,
     "metadata": {},
     "output_type": "execute_result"
    }
   ],
   "source": [
    "pipe_svc = Pipeline([('standard_scaler', StandardScaler()), ('svc', SVC(kernel='rbf', gamma=5, C=0.001))],)\n",
    "pipe_svc.fit(X_train, y_train)\n"
   ]
  },
  {
   "cell_type": "code",
   "execution_count": 348,
   "metadata": {},
   "outputs": [
    {
     "data": {
      "text/plain": [
       "0.5397590361445783"
      ]
     },
     "execution_count": 348,
     "metadata": {},
     "output_type": "execute_result"
    }
   ],
   "source": [
    "accuracy_score(y_test, pipe_svc.predict(X_test))"
   ]
  },
  {
   "cell_type": "code",
   "execution_count": 383,
   "metadata": {},
   "outputs": [],
   "source": [
    "#用逻辑回归，朴素贝叶斯和svm集成学习\n",
    "from sklearn.ensemble import VotingClassifier\n",
    "from sklearn.linear_model import LogisticRegressionCV\n",
    "from sklearn.naive_bayes import GaussianNB\n",
    "standard_scaler = StandardScaler()\n",
    "X_train = standard_scaler.fit_transform(X_train)\n",
    "gnb_clf = GaussianNB()\n",
    "svc_clf = SVC(kernel='rbf', gamma=5, C=0.001)\n",
    "pipe_log = Pipeline([\n",
    "                ('polynomial_features', PolynomialFeatures(degree=2)), \n",
    "                ('logistic_reg', LogisticRegressionCV(cv=10, class_weight={0:0.55, 1:0.45}, n_jobs=-1))]) "
   ]
  },
  {
   "cell_type": "code",
   "execution_count": 384,
   "metadata": {},
   "outputs": [],
   "source": [
    "voting_clf = VotingClassifier(estimators=[('svc', svc_clf), ('log', pipe_log), ('bayes', gnb_clf)], voting='hard')"
   ]
  },
  {
   "cell_type": "code",
   "execution_count": 385,
   "metadata": {},
   "outputs": [
    {
     "data": {
      "text/plain": [
       "VotingClassifier(estimators=[('svc',\n",
       "                              SVC(C=0.001, break_ties=False, cache_size=200,\n",
       "                                  class_weight=None, coef0=0.0,\n",
       "                                  decision_function_shape='ovr', degree=3,\n",
       "                                  gamma=5, kernel='rbf', max_iter=-1,\n",
       "                                  probability=False, random_state=None,\n",
       "                                  shrinking=True, tol=0.001, verbose=False)),\n",
       "                             ('log',\n",
       "                              Pipeline(memory=None,\n",
       "                                       steps=[('polynomial_features',\n",
       "                                               PolynomialFeatures(degree=2,\n",
       "                                                                  include...\n",
       "                                                                                  1: 0.45},\n",
       "                                                                    cv=10,\n",
       "                                                                    dual=False,\n",
       "                                                                    fit_intercept=True,\n",
       "                                                                    intercept_scaling=1.0,\n",
       "                                                                    l1_ratios=None,\n",
       "                                                                    max_iter=100,\n",
       "                                                                    multi_class='auto',\n",
       "                                                                    n_jobs=-1,\n",
       "                                                                    penalty='l2',\n",
       "                                                                    random_state=None,\n",
       "                                                                    refit=True,\n",
       "                                                                    scoring=None,\n",
       "                                                                    solver='lbfgs',\n",
       "                                                                    tol=0.0001,\n",
       "                                                                    verbose=0))],\n",
       "                                       verbose=False)),\n",
       "                             ('bayes',\n",
       "                              GaussianNB(priors=None, var_smoothing=1e-09))],\n",
       "                 flatten_transform=True, n_jobs=None, voting='hard',\n",
       "                 weights=None)"
      ]
     },
     "execution_count": 385,
     "metadata": {},
     "output_type": "execute_result"
    }
   ],
   "source": [
    "voting_clf.fit(X_train, y_train)"
   ]
  },
  {
   "cell_type": "code",
   "execution_count": 386,
   "metadata": {},
   "outputs": [
    {
     "data": {
      "text/plain": [
       "0.5397590361445783"
      ]
     },
     "execution_count": 386,
     "metadata": {},
     "output_type": "execute_result"
    }
   ],
   "source": [
    "accuracy_score(y_test, voting_clf.predict(standard_scaler.transform(X_test)))"
   ]
  },
  {
   "cell_type": "code",
   "execution_count": 389,
   "metadata": {},
   "outputs": [
    {
     "name": "stdout",
     "output_type": "stream",
     "text": [
      "0.5397590361445783\n",
      "0.5228915662650603\n",
      "0.5397590361445783\n"
     ]
    }
   ],
   "source": [
    "for clf in (svc_clf, pipe_log, gnb_clf):\n",
    "    clf.fit(X_train, y_train)\n",
    "    y_predict = clf.predict(standard_scaler.transform(X_test))    \n",
    "    print(accuracy_score(y_test, y_predict))"
   ]
  },
  {
   "cell_type": "code",
   "execution_count": null,
   "metadata": {},
   "outputs": [],
   "source": []
  }
 ],
 "metadata": {
  "kernelspec": {
   "display_name": "Python 3",
   "language": "python",
   "name": "python3"
  },
  "language_info": {
   "codemirror_mode": {
    "name": "ipython",
    "version": 3
   },
   "file_extension": ".py",
   "mimetype": "text/x-python",
   "name": "python",
   "nbconvert_exporter": "python",
   "pygments_lexer": "ipython3",
   "version": "3.7.1"
  }
 },
 "nbformat": 4,
 "nbformat_minor": 2
}
