{
 "cells": [
  {
   "cell_type": "code",
   "execution_count": 1,
   "metadata": {},
   "outputs": [],
   "source": [
    "from sklearn.preprocessing import StandardScaler\n",
    "from sklearn.preprocessing import PolynomialFeatures\n",
    "from sklearn.model_selection import train_test_split\n",
    "from sklearn.linear_model import LogisticRegressionCV\n",
    "from sklearn.metrics import recall_score, confusion_matrix, precision_score\n",
    "from sklearn.pipeline import Pipeline\n",
    "from sklearn.model_selection import GridSearchCV\n",
    "from sklearn.ensemble import RandomForestClassifier\n",
    "import numpy as np\n",
    "import pandas as pd\n",
    "from pymongo import MongoClient, ASCENDING, DESCENDING\n",
    "from vnpy.trade_stock_digu.data_service import DataServiceTushare, LOG\n",
    "\n",
    "ds_tushare = DataServiceTushare()    \n",
    "lst_stock = ds_tushare.get_stock_list()   \n",
    "lst_ma5 = list()\n",
    "lst_ma10 = list()\n",
    "lst_ma20 = list()\n",
    "lst_ma30 = list()\n",
    "lst_ma60 = list()\n",
    "lst_ma120 = list()\n",
    "lst_close = list()\n",
    "lst_pct_chg = list()\n",
    "for item_stock in lst_stock:\n",
    "# for item_stock in ['000001_SZ', '000002_SZ', '000813_SZ']:\n",
    "    lst_price_code = ds_tushare.get_stock_price_lst(item_stock, '20190101', '20190701')\n",
    "    # lst_price_code = ds_tushare.get_stock_price_lst(item_stock, '20200805', '20200808')\n",
    "    if len(lst_price_code) == 0:\n",
    "        continue\n",
    "    lst_pct_chg_code = list()\n",
    "    for item_price in lst_price_code:\n",
    "        lst_ma5.append(item_price['ma_5'])\n",
    "        lst_ma10.append(item_price['ma_10'])\n",
    "        lst_ma20.append(item_price['ma_20'])\n",
    "        lst_ma30.append(item_price['ma_30'])\n",
    "        lst_ma60.append(item_price['ma_60'])\n",
    "        lst_ma120.append(item_price['ma_120'])\n",
    "        lst_close.append(item_price['close'])\n",
    "        lst_pct_chg_code.append(item_price['pct_chg'])   \n",
    "    arr_pct_chg_code = np.array(lst_pct_chg_code)\n",
    "    arr_pct_chg_code = np.roll(arr_pct_chg_code, -1)\n",
    "    arr_pct_chg_code = (arr_pct_chg_code > 0.0).astype(int)\n",
    "    lst_ma5.pop()\n",
    "    lst_ma10.pop()\n",
    "    lst_ma20.pop()\n",
    "    lst_ma30.pop()\n",
    "    lst_ma60.pop()\n",
    "    lst_ma120.pop()\n",
    "    lst_close.pop()\n",
    "    try:\n",
    "        arr_pct_chg_code = np.delete(arr_pct_chg_code, -1)\n",
    "    except:\n",
    "        LOG.info(arr_pct_chg_code)\n",
    "    lst_pct_chg += list(arr_pct_chg_code)        \n",
    "arr_ma5 = np.array(lst_ma5)\n",
    "arr_ma10 = np.array(lst_ma10)\n",
    "arr_ma20 = np.array(lst_ma20)\n",
    "arr_ma30 = np.array(lst_ma30)\n",
    "arr_ma60 = np.array(lst_ma60)\n",
    "arr_ma120 = np.array(lst_ma120)\n",
    "arr_close = np.array(lst_close)    \n",
    "arr_ma5_sub_close = (arr_close - arr_ma5)*100/arr_close\n",
    "arr_ma10_sub_close = (arr_close - arr_ma10)*100/arr_close\n",
    "arr_ma20_sub_close = (arr_close - arr_ma20)*100/arr_close\n",
    "arr_ma30_sub_close = (arr_close - arr_ma30)*100/arr_close\n",
    "arr_ma60_sub_close = (arr_close - arr_ma60)*100/arr_close\n",
    "arr_ma120_sub_close = (arr_close - arr_ma120)*100/arr_close\n",
    "arr_pct_chg = np.array(lst_pct_chg)\n",
    "X = np.vstack((arr_ma5_sub_close, arr_ma10_sub_close, arr_ma20_sub_close, arr_ma30_sub_close, arr_ma60_sub_close, arr_ma120_sub_close))\n",
    "y = arr_pct_chg\n",
    "y_close = arr_close"
   ]
  },
  {
   "cell_type": "code",
   "execution_count": 7,
   "metadata": {},
   "outputs": [
    {
     "data": {
      "text/plain": [
       "(420226, 6)"
      ]
     },
     "execution_count": 7,
     "metadata": {},
     "output_type": "execute_result"
    }
   ],
   "source": [
    "X = X.T\n",
    "X.shape"
   ]
  },
  {
   "cell_type": "code",
   "execution_count": 8,
   "metadata": {},
   "outputs": [
    {
     "data": {
      "text/plain": [
       "(420226,)"
      ]
     },
     "execution_count": 8,
     "metadata": {},
     "output_type": "execute_result"
    }
   ],
   "source": [
    "y.shape"
   ]
  },
  {
   "cell_type": "code",
   "execution_count": 10,
   "metadata": {},
   "outputs": [],
   "source": [
    "np.save('X_date', X)"
   ]
  },
  {
   "cell_type": "code",
   "execution_count": 11,
   "metadata": {},
   "outputs": [],
   "source": [
    "np.save('y_date', y)"
   ]
  },
  {
   "cell_type": "code",
   "execution_count": 12,
   "metadata": {},
   "outputs": [
    {
     "data": {
      "text/plain": [
       "0.5749358583957414"
      ]
     },
     "execution_count": 12,
     "metadata": {},
     "output_type": "execute_result"
    }
   ],
   "source": [
    "from sklearn.model_selection import cross_val_score\n",
    "rfc = RandomForestClassifier(n_estimators=100,random_state=90)\n",
    "score_pre = cross_val_score(rfc, X, y, cv=10).mean()\n",
    "score_pre"
   ]
  },
  {
   "cell_type": "code",
   "execution_count": null,
   "metadata": {},
   "outputs": [],
   "source": []
  }
 ],
 "metadata": {
  "kernelspec": {
   "display_name": "Python 3",
   "language": "python",
   "name": "python3"
  },
  "language_info": {
   "codemirror_mode": {
    "name": "ipython",
    "version": 3
   },
   "file_extension": ".py",
   "mimetype": "text/x-python",
   "name": "python",
   "nbconvert_exporter": "python",
   "pygments_lexer": "ipython3",
   "version": "3.7.1"
  }
 },
 "nbformat": 4,
 "nbformat_minor": 2
}
